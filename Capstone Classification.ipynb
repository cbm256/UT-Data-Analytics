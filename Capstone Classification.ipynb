{
 "cells": [
  {
   "cell_type": "markdown",
   "metadata": {},
   "source": [
    "This file using models to classify or predict which loans will default."
   ]
  },
  {
   "cell_type": "code",
   "execution_count": 180,
   "metadata": {},
   "outputs": [
    {
     "name": "stdout",
     "output_type": "stream",
     "text": [
      "Populating the interactive namespace from numpy and matplotlib\n"
     ]
    },
    {
     "name": "stderr",
     "output_type": "stream",
     "text": [
      "C:\\Users\\Christy McCanless\\Anaconda3\\lib\\site-packages\\IPython\\core\\magics\\pylab.py:160: UserWarning: pylab import has clobbered these variables: ['cm', 'long', 'table']\n",
      "`%matplotlib` prevents importing * from pylab and numpy\n",
      "  \"\\n`%matplotlib` prevents importing * from pylab and numpy\"\n"
     ]
    }
   ],
   "source": [
    "# Import libraries\n",
    "import numpy as np\n",
    "import pandas as pd\n",
    "import seaborn as sns\n",
    "import scipy\n",
    "import matplotlib.pyplot as plt\n",
    "from sklearn.preprocessing import LabelEncoder, OneHotEncoder\n",
    "from matplotlib import rcParams\n",
    "%pylab inline  \n",
    "# googled solution to pylab not found error\n",
    "\n",
    "# Import estimators\n",
    "from sklearn.ensemble import RandomForestClassifier, GradientBoostingClassifier\n",
    "from sklearn.linear_model import LogisticRegression\n",
    "from sklearn.svm import SVC\n",
    "from sklearn.neighbors import KNeighborsClassifier\n",
    "from sklearn.linear_model import LinearRegression\n",
    "from sklearn.discriminant_analysis import LinearDiscriminantAnalysis\n",
    "\n",
    "# Import model metrics\n",
    "from sklearn.metrics import classification_report\n",
    "from sklearn.metrics import accuracy_score\n",
    "from sklearn.metrics import cohen_kappa_score\n",
    "from sklearn.metrics import confusion_matrix as cm\n",
    "from sklearn.model_selection import cross_val_score\n",
    "\n",
    "# Import cross validation\n",
    "from sklearn.cross_validation import train_test_split\n",
    "\n",
    "# Set default matplot figure size\n",
    "pylab.rcParams['figure.figsize'] = (10.0,8.0)"
   ]
  },
  {
   "cell_type": "code",
   "execution_count": null,
   "metadata": {},
   "outputs": [],
   "source": [
    "#NOTES DURING CODING:\n",
    "\n",
    "\"\"\"# Rearrange columns UID and DEPVAR\n",
    "columnsNames = list(rawData.columns)\n",
    "UID = columnsNames.index('UID')\n",
    "DEPVAR = columnsNames.index('DEPVAR')\n",
    "columnsNames[UID], columnsNames[DEPVAR] = columnsNames[DEPVAR], columnsNames[UID]\n",
    "rawData = rawData[columnsNames]\n",
    "rawData.iloc[0:5, 520:]\"\"\"\n",
    "\n",
    "\"\"\"Remove features\n",
    " df.drop(['B', 'C'], axis=1)\"\"\"\n",
    "\n",
    "\"\"\"Rename feature\n",
    " rawData.rename(columns = {'default payment next month':'default'}, inplace=True)\"\"\"\n",
    "\n",
    "\n",
    "\"\"\"Find columns with only values of 100\"\"\"\n",
    "\"\"\"Number of observations per building\n",
    "BLDG_0.shape, BLDG_2.shape, BLDG_1.shape\n",
    "\n",
    "BLDG_0.shape[0]\n",
    "\n",
    "Find WAP columns with all 100 readings ie no reading\n",
    "BLDG = BLDG_0[0:520]\n",
    "sig_0 = BLDG.sum(axis = 0) == ((BLDG.shape[0])*100)\n",
    "sig_0[0:10], len(sig_0), len(BLDG)\n",
    "\n",
    "use_0 = sig_0[sig_0 == False]\n",
    "len(use_0)\n",
    "\n",
    "use_0[0:10], type(use_0)\n",
    "B0 = BLDG_0[BLDG_0[:,[use_0]]]\n",
    "\n",
    "BLDG_0_NOSIG = BLDG_0[BLDG_0.sum(axis = 0) == (5249*100)]\n",
    "BLDG_0_NOSIG.shape\"\"\"\n"
   ]
  },
  {
   "cell_type": "code",
   "execution_count": null,
   "metadata": {},
   "outputs": [],
   "source": [
    "pwd"
   ]
  },
  {
   "cell_type": "code",
   "execution_count": 2,
   "metadata": {},
   "outputs": [],
   "source": [
    "# Import raw data\n",
    "rawData = pd.read_csv('trainingData.csv')"
   ]
  },
  {
   "cell_type": "code",
   "execution_count": 3,
   "metadata": {},
   "outputs": [
    {
     "name": "stdout",
     "output_type": "stream",
     "text": [
      "<class 'pandas.core.frame.DataFrame'>\n",
      "RangeIndex: 19937 entries, 0 to 19936\n",
      "Columns: 529 entries, WAP001 to TIMESTAMP\n",
      "dtypes: float64(2), int64(527)\n",
      "memory usage: 80.5 MB\n"
     ]
    }
   ],
   "source": [
    "# Examine structure of raw data set\n",
    "rawData.info()"
   ]
  },
  {
   "cell_type": "code",
   "execution_count": 4,
   "metadata": {},
   "outputs": [
    {
     "data": {
      "text/html": [
       "<div>\n",
       "<style scoped>\n",
       "    .dataframe tbody tr th:only-of-type {\n",
       "        vertical-align: middle;\n",
       "    }\n",
       "\n",
       "    .dataframe tbody tr th {\n",
       "        vertical-align: top;\n",
       "    }\n",
       "\n",
       "    .dataframe thead th {\n",
       "        text-align: right;\n",
       "    }\n",
       "</style>\n",
       "<table border=\"1\" class=\"dataframe\">\n",
       "  <thead>\n",
       "    <tr style=\"text-align: right;\">\n",
       "      <th></th>\n",
       "      <th>WAP520</th>\n",
       "      <th>LONGITUDE</th>\n",
       "      <th>LATITUDE</th>\n",
       "      <th>FLOOR</th>\n",
       "      <th>BUILDINGID</th>\n",
       "      <th>SPACEID</th>\n",
       "      <th>RELATIVEPOSITION</th>\n",
       "      <th>USERID</th>\n",
       "      <th>PHONEID</th>\n",
       "      <th>TIMESTAMP</th>\n",
       "    </tr>\n",
       "  </thead>\n",
       "  <tbody>\n",
       "    <tr>\n",
       "      <th>count</th>\n",
       "      <td>19937.0</td>\n",
       "      <td>19937.000000</td>\n",
       "      <td>1.993700e+04</td>\n",
       "      <td>19937.000000</td>\n",
       "      <td>19937.000000</td>\n",
       "      <td>19937.000000</td>\n",
       "      <td>19937.000000</td>\n",
       "      <td>19937.000000</td>\n",
       "      <td>19937.000000</td>\n",
       "      <td>1.993700e+04</td>\n",
       "    </tr>\n",
       "    <tr>\n",
       "      <th>mean</th>\n",
       "      <td>100.0</td>\n",
       "      <td>-7464.275947</td>\n",
       "      <td>4.864871e+06</td>\n",
       "      <td>1.674575</td>\n",
       "      <td>1.212820</td>\n",
       "      <td>148.429954</td>\n",
       "      <td>1.833024</td>\n",
       "      <td>9.068014</td>\n",
       "      <td>13.021869</td>\n",
       "      <td>1.371421e+09</td>\n",
       "    </tr>\n",
       "    <tr>\n",
       "      <th>std</th>\n",
       "      <td>0.0</td>\n",
       "      <td>123.402010</td>\n",
       "      <td>6.693318e+01</td>\n",
       "      <td>1.223078</td>\n",
       "      <td>0.833139</td>\n",
       "      <td>58.342106</td>\n",
       "      <td>0.372964</td>\n",
       "      <td>4.988720</td>\n",
       "      <td>5.362410</td>\n",
       "      <td>5.572054e+05</td>\n",
       "    </tr>\n",
       "    <tr>\n",
       "      <th>min</th>\n",
       "      <td>100.0</td>\n",
       "      <td>-7691.338400</td>\n",
       "      <td>4.864746e+06</td>\n",
       "      <td>0.000000</td>\n",
       "      <td>0.000000</td>\n",
       "      <td>1.000000</td>\n",
       "      <td>1.000000</td>\n",
       "      <td>1.000000</td>\n",
       "      <td>1.000000</td>\n",
       "      <td>1.369909e+09</td>\n",
       "    </tr>\n",
       "    <tr>\n",
       "      <th>25%</th>\n",
       "      <td>100.0</td>\n",
       "      <td>-7594.737000</td>\n",
       "      <td>4.864821e+06</td>\n",
       "      <td>1.000000</td>\n",
       "      <td>0.000000</td>\n",
       "      <td>110.000000</td>\n",
       "      <td>2.000000</td>\n",
       "      <td>5.000000</td>\n",
       "      <td>8.000000</td>\n",
       "      <td>1.371056e+09</td>\n",
       "    </tr>\n",
       "    <tr>\n",
       "      <th>50%</th>\n",
       "      <td>100.0</td>\n",
       "      <td>-7423.060900</td>\n",
       "      <td>4.864852e+06</td>\n",
       "      <td>2.000000</td>\n",
       "      <td>1.000000</td>\n",
       "      <td>129.000000</td>\n",
       "      <td>2.000000</td>\n",
       "      <td>11.000000</td>\n",
       "      <td>13.000000</td>\n",
       "      <td>1.371716e+09</td>\n",
       "    </tr>\n",
       "    <tr>\n",
       "      <th>75%</th>\n",
       "      <td>100.0</td>\n",
       "      <td>-7359.193000</td>\n",
       "      <td>4.864930e+06</td>\n",
       "      <td>3.000000</td>\n",
       "      <td>2.000000</td>\n",
       "      <td>207.000000</td>\n",
       "      <td>2.000000</td>\n",
       "      <td>13.000000</td>\n",
       "      <td>14.000000</td>\n",
       "      <td>1.371721e+09</td>\n",
       "    </tr>\n",
       "    <tr>\n",
       "      <th>max</th>\n",
       "      <td>100.0</td>\n",
       "      <td>-7300.818990</td>\n",
       "      <td>4.865017e+06</td>\n",
       "      <td>4.000000</td>\n",
       "      <td>2.000000</td>\n",
       "      <td>254.000000</td>\n",
       "      <td>2.000000</td>\n",
       "      <td>18.000000</td>\n",
       "      <td>24.000000</td>\n",
       "      <td>1.371738e+09</td>\n",
       "    </tr>\n",
       "  </tbody>\n",
       "</table>\n",
       "</div>"
      ],
      "text/plain": [
       "        WAP520     LONGITUDE      LATITUDE         FLOOR    BUILDINGID  \\\n",
       "count  19937.0  19937.000000  1.993700e+04  19937.000000  19937.000000   \n",
       "mean     100.0  -7464.275947  4.864871e+06      1.674575      1.212820   \n",
       "std        0.0    123.402010  6.693318e+01      1.223078      0.833139   \n",
       "min      100.0  -7691.338400  4.864746e+06      0.000000      0.000000   \n",
       "25%      100.0  -7594.737000  4.864821e+06      1.000000      0.000000   \n",
       "50%      100.0  -7423.060900  4.864852e+06      2.000000      1.000000   \n",
       "75%      100.0  -7359.193000  4.864930e+06      3.000000      2.000000   \n",
       "max      100.0  -7300.818990  4.865017e+06      4.000000      2.000000   \n",
       "\n",
       "            SPACEID  RELATIVEPOSITION        USERID       PHONEID  \\\n",
       "count  19937.000000      19937.000000  19937.000000  19937.000000   \n",
       "mean     148.429954          1.833024      9.068014     13.021869   \n",
       "std       58.342106          0.372964      4.988720      5.362410   \n",
       "min        1.000000          1.000000      1.000000      1.000000   \n",
       "25%      110.000000          2.000000      5.000000      8.000000   \n",
       "50%      129.000000          2.000000     11.000000     13.000000   \n",
       "75%      207.000000          2.000000     13.000000     14.000000   \n",
       "max      254.000000          2.000000     18.000000     24.000000   \n",
       "\n",
       "          TIMESTAMP  \n",
       "count  1.993700e+04  \n",
       "mean   1.371421e+09  \n",
       "std    5.572054e+05  \n",
       "min    1.369909e+09  \n",
       "25%    1.371056e+09  \n",
       "50%    1.371716e+09  \n",
       "75%    1.371721e+09  \n",
       "max    1.371738e+09  "
      ]
     },
     "execution_count": 4,
     "metadata": {},
     "output_type": "execute_result"
    }
   ],
   "source": [
    "rawData.describe().iloc[:,519:]"
   ]
  },
  {
   "cell_type": "code",
   "execution_count": 5,
   "metadata": {},
   "outputs": [
    {
     "name": "stdout",
     "output_type": "stream",
     "text": [
      "Summary of rawData first 6 rows:\n"
     ]
    },
    {
     "data": {
      "text/html": [
       "<div>\n",
       "<style scoped>\n",
       "    .dataframe tbody tr th:only-of-type {\n",
       "        vertical-align: middle;\n",
       "    }\n",
       "\n",
       "    .dataframe tbody tr th {\n",
       "        vertical-align: top;\n",
       "    }\n",
       "\n",
       "    .dataframe thead th {\n",
       "        text-align: right;\n",
       "    }\n",
       "</style>\n",
       "<table border=\"1\" class=\"dataframe\">\n",
       "  <thead>\n",
       "    <tr style=\"text-align: right;\">\n",
       "      <th></th>\n",
       "      <th>WAP001</th>\n",
       "      <th>WAP002</th>\n",
       "      <th>WAP003</th>\n",
       "      <th>WAP004</th>\n",
       "      <th>WAP005</th>\n",
       "      <th>WAP006</th>\n",
       "      <th>WAP007</th>\n",
       "      <th>WAP008</th>\n",
       "      <th>WAP009</th>\n",
       "      <th>WAP010</th>\n",
       "      <th>...</th>\n",
       "      <th>WAP520</th>\n",
       "      <th>LONGITUDE</th>\n",
       "      <th>LATITUDE</th>\n",
       "      <th>FLOOR</th>\n",
       "      <th>BUILDINGID</th>\n",
       "      <th>SPACEID</th>\n",
       "      <th>RELATIVEPOSITION</th>\n",
       "      <th>USERID</th>\n",
       "      <th>PHONEID</th>\n",
       "      <th>TIMESTAMP</th>\n",
       "    </tr>\n",
       "  </thead>\n",
       "  <tbody>\n",
       "    <tr>\n",
       "      <th>0</th>\n",
       "      <td>100</td>\n",
       "      <td>100</td>\n",
       "      <td>100</td>\n",
       "      <td>100</td>\n",
       "      <td>100</td>\n",
       "      <td>100</td>\n",
       "      <td>100</td>\n",
       "      <td>100</td>\n",
       "      <td>100</td>\n",
       "      <td>100</td>\n",
       "      <td>...</td>\n",
       "      <td>100</td>\n",
       "      <td>-7541.2643</td>\n",
       "      <td>4.864921e+06</td>\n",
       "      <td>2</td>\n",
       "      <td>1</td>\n",
       "      <td>106</td>\n",
       "      <td>2</td>\n",
       "      <td>2</td>\n",
       "      <td>23</td>\n",
       "      <td>1371713733</td>\n",
       "    </tr>\n",
       "    <tr>\n",
       "      <th>1</th>\n",
       "      <td>100</td>\n",
       "      <td>100</td>\n",
       "      <td>100</td>\n",
       "      <td>100</td>\n",
       "      <td>100</td>\n",
       "      <td>100</td>\n",
       "      <td>100</td>\n",
       "      <td>100</td>\n",
       "      <td>100</td>\n",
       "      <td>100</td>\n",
       "      <td>...</td>\n",
       "      <td>100</td>\n",
       "      <td>-7536.6212</td>\n",
       "      <td>4.864934e+06</td>\n",
       "      <td>2</td>\n",
       "      <td>1</td>\n",
       "      <td>106</td>\n",
       "      <td>2</td>\n",
       "      <td>2</td>\n",
       "      <td>23</td>\n",
       "      <td>1371713691</td>\n",
       "    </tr>\n",
       "    <tr>\n",
       "      <th>2</th>\n",
       "      <td>100</td>\n",
       "      <td>100</td>\n",
       "      <td>100</td>\n",
       "      <td>100</td>\n",
       "      <td>100</td>\n",
       "      <td>100</td>\n",
       "      <td>100</td>\n",
       "      <td>-97</td>\n",
       "      <td>100</td>\n",
       "      <td>100</td>\n",
       "      <td>...</td>\n",
       "      <td>100</td>\n",
       "      <td>-7519.1524</td>\n",
       "      <td>4.864950e+06</td>\n",
       "      <td>2</td>\n",
       "      <td>1</td>\n",
       "      <td>103</td>\n",
       "      <td>2</td>\n",
       "      <td>2</td>\n",
       "      <td>23</td>\n",
       "      <td>1371714095</td>\n",
       "    </tr>\n",
       "    <tr>\n",
       "      <th>3</th>\n",
       "      <td>100</td>\n",
       "      <td>100</td>\n",
       "      <td>100</td>\n",
       "      <td>100</td>\n",
       "      <td>100</td>\n",
       "      <td>100</td>\n",
       "      <td>100</td>\n",
       "      <td>100</td>\n",
       "      <td>100</td>\n",
       "      <td>100</td>\n",
       "      <td>...</td>\n",
       "      <td>100</td>\n",
       "      <td>-7524.5704</td>\n",
       "      <td>4.864934e+06</td>\n",
       "      <td>2</td>\n",
       "      <td>1</td>\n",
       "      <td>102</td>\n",
       "      <td>2</td>\n",
       "      <td>2</td>\n",
       "      <td>23</td>\n",
       "      <td>1371713807</td>\n",
       "    </tr>\n",
       "    <tr>\n",
       "      <th>4</th>\n",
       "      <td>100</td>\n",
       "      <td>100</td>\n",
       "      <td>100</td>\n",
       "      <td>100</td>\n",
       "      <td>100</td>\n",
       "      <td>100</td>\n",
       "      <td>100</td>\n",
       "      <td>100</td>\n",
       "      <td>100</td>\n",
       "      <td>100</td>\n",
       "      <td>...</td>\n",
       "      <td>100</td>\n",
       "      <td>-7632.1436</td>\n",
       "      <td>4.864982e+06</td>\n",
       "      <td>0</td>\n",
       "      <td>0</td>\n",
       "      <td>122</td>\n",
       "      <td>2</td>\n",
       "      <td>11</td>\n",
       "      <td>13</td>\n",
       "      <td>1369909710</td>\n",
       "    </tr>\n",
       "  </tbody>\n",
       "</table>\n",
       "<p>5 rows × 529 columns</p>\n",
       "</div>"
      ],
      "text/plain": [
       "   WAP001  WAP002  WAP003  WAP004  WAP005  WAP006  WAP007  WAP008  WAP009  \\\n",
       "0     100     100     100     100     100     100     100     100     100   \n",
       "1     100     100     100     100     100     100     100     100     100   \n",
       "2     100     100     100     100     100     100     100     -97     100   \n",
       "3     100     100     100     100     100     100     100     100     100   \n",
       "4     100     100     100     100     100     100     100     100     100   \n",
       "\n",
       "   WAP010     ...      WAP520  LONGITUDE      LATITUDE  FLOOR  BUILDINGID  \\\n",
       "0     100     ...         100 -7541.2643  4.864921e+06      2           1   \n",
       "1     100     ...         100 -7536.6212  4.864934e+06      2           1   \n",
       "2     100     ...         100 -7519.1524  4.864950e+06      2           1   \n",
       "3     100     ...         100 -7524.5704  4.864934e+06      2           1   \n",
       "4     100     ...         100 -7632.1436  4.864982e+06      0           0   \n",
       "\n",
       "   SPACEID  RELATIVEPOSITION  USERID  PHONEID   TIMESTAMP  \n",
       "0      106                 2       2       23  1371713733  \n",
       "1      106                 2       2       23  1371713691  \n",
       "2      103                 2       2       23  1371714095  \n",
       "3      102                 2       2       23  1371713807  \n",
       "4      122                 2      11       13  1369909710  \n",
       "\n",
       "[5 rows x 529 columns]"
      ]
     },
     "execution_count": 5,
     "metadata": {},
     "output_type": "execute_result"
    }
   ],
   "source": [
    "print('Summary of rawData first 6 rows:')\n",
    "rawData.iloc[0:5,0:529]"
   ]
  },
  {
   "cell_type": "code",
   "execution_count": 6,
   "metadata": {},
   "outputs": [
    {
     "name": "stdout",
     "output_type": "stream",
     "text": [
      "Summary of rawData first 6 rows, last 10 columns:\n"
     ]
    },
    {
     "data": {
      "text/html": [
       "<div>\n",
       "<style scoped>\n",
       "    .dataframe tbody tr th:only-of-type {\n",
       "        vertical-align: middle;\n",
       "    }\n",
       "\n",
       "    .dataframe tbody tr th {\n",
       "        vertical-align: top;\n",
       "    }\n",
       "\n",
       "    .dataframe thead th {\n",
       "        text-align: right;\n",
       "    }\n",
       "</style>\n",
       "<table border=\"1\" class=\"dataframe\">\n",
       "  <thead>\n",
       "    <tr style=\"text-align: right;\">\n",
       "      <th></th>\n",
       "      <th>WAP520</th>\n",
       "      <th>LONGITUDE</th>\n",
       "      <th>LATITUDE</th>\n",
       "      <th>FLOOR</th>\n",
       "      <th>BUILDINGID</th>\n",
       "      <th>SPACEID</th>\n",
       "      <th>RELATIVEPOSITION</th>\n",
       "      <th>USERID</th>\n",
       "      <th>PHONEID</th>\n",
       "      <th>TIMESTAMP</th>\n",
       "    </tr>\n",
       "  </thead>\n",
       "  <tbody>\n",
       "    <tr>\n",
       "      <th>0</th>\n",
       "      <td>100</td>\n",
       "      <td>-7541.2643</td>\n",
       "      <td>4.864921e+06</td>\n",
       "      <td>2</td>\n",
       "      <td>1</td>\n",
       "      <td>106</td>\n",
       "      <td>2</td>\n",
       "      <td>2</td>\n",
       "      <td>23</td>\n",
       "      <td>1371713733</td>\n",
       "    </tr>\n",
       "    <tr>\n",
       "      <th>1</th>\n",
       "      <td>100</td>\n",
       "      <td>-7536.6212</td>\n",
       "      <td>4.864934e+06</td>\n",
       "      <td>2</td>\n",
       "      <td>1</td>\n",
       "      <td>106</td>\n",
       "      <td>2</td>\n",
       "      <td>2</td>\n",
       "      <td>23</td>\n",
       "      <td>1371713691</td>\n",
       "    </tr>\n",
       "    <tr>\n",
       "      <th>2</th>\n",
       "      <td>100</td>\n",
       "      <td>-7519.1524</td>\n",
       "      <td>4.864950e+06</td>\n",
       "      <td>2</td>\n",
       "      <td>1</td>\n",
       "      <td>103</td>\n",
       "      <td>2</td>\n",
       "      <td>2</td>\n",
       "      <td>23</td>\n",
       "      <td>1371714095</td>\n",
       "    </tr>\n",
       "    <tr>\n",
       "      <th>3</th>\n",
       "      <td>100</td>\n",
       "      <td>-7524.5704</td>\n",
       "      <td>4.864934e+06</td>\n",
       "      <td>2</td>\n",
       "      <td>1</td>\n",
       "      <td>102</td>\n",
       "      <td>2</td>\n",
       "      <td>2</td>\n",
       "      <td>23</td>\n",
       "      <td>1371713807</td>\n",
       "    </tr>\n",
       "    <tr>\n",
       "      <th>4</th>\n",
       "      <td>100</td>\n",
       "      <td>-7632.1436</td>\n",
       "      <td>4.864982e+06</td>\n",
       "      <td>0</td>\n",
       "      <td>0</td>\n",
       "      <td>122</td>\n",
       "      <td>2</td>\n",
       "      <td>11</td>\n",
       "      <td>13</td>\n",
       "      <td>1369909710</td>\n",
       "    </tr>\n",
       "  </tbody>\n",
       "</table>\n",
       "</div>"
      ],
      "text/plain": [
       "   WAP520  LONGITUDE      LATITUDE  FLOOR  BUILDINGID  SPACEID  \\\n",
       "0     100 -7541.2643  4.864921e+06      2           1      106   \n",
       "1     100 -7536.6212  4.864934e+06      2           1      106   \n",
       "2     100 -7519.1524  4.864950e+06      2           1      103   \n",
       "3     100 -7524.5704  4.864934e+06      2           1      102   \n",
       "4     100 -7632.1436  4.864982e+06      0           0      122   \n",
       "\n",
       "   RELATIVEPOSITION  USERID  PHONEID   TIMESTAMP  \n",
       "0                 2       2       23  1371713733  \n",
       "1                 2       2       23  1371713691  \n",
       "2                 2       2       23  1371714095  \n",
       "3                 2       2       23  1371713807  \n",
       "4                 2      11       13  1369909710  "
      ]
     },
     "execution_count": 6,
     "metadata": {},
     "output_type": "execute_result"
    }
   ],
   "source": [
    "print('Summary of rawData first 6 rows, last 10 columns:')\n",
    "rawData.iloc[0:5,519:529]"
   ]
  },
  {
   "cell_type": "code",
   "execution_count": 7,
   "metadata": {},
   "outputs": [
    {
     "data": {
      "text/html": [
       "<div>\n",
       "<style scoped>\n",
       "    .dataframe tbody tr th:only-of-type {\n",
       "        vertical-align: middle;\n",
       "    }\n",
       "\n",
       "    .dataframe tbody tr th {\n",
       "        vertical-align: top;\n",
       "    }\n",
       "\n",
       "    .dataframe thead th {\n",
       "        text-align: right;\n",
       "    }\n",
       "</style>\n",
       "<table border=\"1\" class=\"dataframe\">\n",
       "  <thead>\n",
       "    <tr style=\"text-align: right;\">\n",
       "      <th></th>\n",
       "      <th>WAP520</th>\n",
       "      <th>LONGITUDE</th>\n",
       "      <th>LATITUDE</th>\n",
       "      <th>FLOOR</th>\n",
       "      <th>BUILDINGID</th>\n",
       "      <th>SPACEID</th>\n",
       "    </tr>\n",
       "  </thead>\n",
       "  <tbody>\n",
       "    <tr>\n",
       "      <th>0</th>\n",
       "      <td>100</td>\n",
       "      <td>-7541.2643</td>\n",
       "      <td>4.864921e+06</td>\n",
       "      <td>2</td>\n",
       "      <td>1</td>\n",
       "      <td>106</td>\n",
       "    </tr>\n",
       "    <tr>\n",
       "      <th>1</th>\n",
       "      <td>100</td>\n",
       "      <td>-7536.6212</td>\n",
       "      <td>4.864934e+06</td>\n",
       "      <td>2</td>\n",
       "      <td>1</td>\n",
       "      <td>106</td>\n",
       "    </tr>\n",
       "    <tr>\n",
       "      <th>2</th>\n",
       "      <td>100</td>\n",
       "      <td>-7519.1524</td>\n",
       "      <td>4.864950e+06</td>\n",
       "      <td>2</td>\n",
       "      <td>1</td>\n",
       "      <td>103</td>\n",
       "    </tr>\n",
       "    <tr>\n",
       "      <th>3</th>\n",
       "      <td>100</td>\n",
       "      <td>-7524.5704</td>\n",
       "      <td>4.864934e+06</td>\n",
       "      <td>2</td>\n",
       "      <td>1</td>\n",
       "      <td>102</td>\n",
       "    </tr>\n",
       "    <tr>\n",
       "      <th>4</th>\n",
       "      <td>100</td>\n",
       "      <td>-7632.1436</td>\n",
       "      <td>4.864982e+06</td>\n",
       "      <td>0</td>\n",
       "      <td>0</td>\n",
       "      <td>122</td>\n",
       "    </tr>\n",
       "  </tbody>\n",
       "</table>\n",
       "</div>"
      ],
      "text/plain": [
       "   WAP520  LONGITUDE      LATITUDE  FLOOR  BUILDINGID  SPACEID\n",
       "0     100 -7541.2643  4.864921e+06      2           1      106\n",
       "1     100 -7536.6212  4.864934e+06      2           1      106\n",
       "2     100 -7519.1524  4.864950e+06      2           1      103\n",
       "3     100 -7524.5704  4.864934e+06      2           1      102\n",
       "4     100 -7632.1436  4.864982e+06      0           0      122"
      ]
     },
     "execution_count": 7,
     "metadata": {},
     "output_type": "execute_result"
    }
   ],
   "source": [
    "# Remove features\n",
    "rawData.drop(['RELATIVEPOSITION','USERID','PHONEID', 'TIMESTAMP'], axis = 1, inplace = True)\n",
    "rawData.iloc[0:5, 519:]\n",
    "#rawData.rename(columns = {'default payment next month':'default'}, inplace=True)"
   ]
  },
  {
   "cell_type": "code",
   "execution_count": 8,
   "metadata": {
    "scrolled": true
   },
   "outputs": [
    {
     "data": {
      "image/png": "[encoded data removed]",
      "text/plain": [
       "<Figure size 432x288 with 1 Axes>"
      ]
     },
     "metadata": {},
     "output_type": "display_data"
    }
   ],
   "source": [
    "# Visualizing layout of buildings\n",
    "lat = rawData['LATITUDE']\n",
    "long = rawData['LONGITUDE']\n",
    "plt.scatter(lat, long, color = 'darkblue')  # Real values\n",
    "plt.title('Layout of Buildings')\n",
    "plt.xlabel('Latitude')\n",
    "plt.ylabel('Longitude')\n",
    "plt.show()"
   ]
  },
  {
   "cell_type": "code",
   "execution_count": 9,
   "metadata": {},
   "outputs": [
    {
     "data": {
      "image/png": "[encoded data removed]",
      "text/plain": [
       "<Figure size 432x288 with 1 Axes>"
      ]
     },
     "metadata": {},
     "output_type": "display_data"
    }
   ],
   "source": [
    "# Visualizing layout of buildings\n",
    "lat = rawData['LATITUDE'][rawData['BUILDINGID'] == 0]\n",
    "long = rawData['LONGITUDE'][rawData['BUILDINGID'] == 0]\n",
    "plt.scatter(lat, long, color = 'royalblue')  # Real values\n",
    "plt.title('Layout of Building 0')\n",
    "plt.xlabel('Latitude')\n",
    "plt.ylabel('Longitude')\n",
    "plt.show()"
   ]
  },
  {
   "cell_type": "code",
   "execution_count": 10,
   "metadata": {},
   "outputs": [
    {
     "data": {
      "image/png": "[encoded data removed]",
      "text/plain": [
       "<Figure size 432x288 with 1 Axes>"
      ]
     },
     "metadata": {},
     "output_type": "display_data"
    }
   ],
   "source": [
    "# Visualizing layout of buildings\n",
    "lat = rawData['LATITUDE'][rawData['BUILDINGID'] == 1]\n",
    "long = rawData['LONGITUDE'][rawData['BUILDINGID'] == 1]\n",
    "plt.scatter(lat, long, color = 'green')  # Real values\n",
    "plt.title('Layout of Building 1')\n",
    "plt.xlabel('Latitude')\n",
    "plt.ylabel('Longitude')\n",
    "plt.show()"
   ]
  },
  {
   "cell_type": "code",
   "execution_count": 11,
   "metadata": {},
   "outputs": [
    {
     "data": {
      "image/png": "[encoded data removed]",
      "text/plain": [
       "<Figure size 432x288 with 1 Axes>"
      ]
     },
     "metadata": {},
     "output_type": "display_data"
    }
   ],
   "source": [
    "# Visualizing layout of buildings\n",
    "lat = rawData['LATITUDE'][rawData['BUILDINGID'] == 2]\n",
    "long = rawData['LONGITUDE'][rawData['BUILDINGID'] == 2]\n",
    "plt.scatter(lat, long, color = 'red')  # Real values\n",
    "plt.title('Layout of Building 2')\n",
    "plt.xlabel('Latitude')\n",
    "plt.ylabel('Longitude')\n",
    "plt.show()"
   ]
  },
  {
   "cell_type": "code",
   "execution_count": 12,
   "metadata": {},
   "outputs": [],
   "source": [
    "rawData.drop(['LONGITUDE', 'LATITUDE'], axis = 1, inplace = True)"
   ]
  },
  {
   "cell_type": "code",
   "execution_count": 13,
   "metadata": {},
   "outputs": [
    {
     "data": {
      "text/plain": [
       "Index(['FLOOR', 'BUILDINGID', 'SPACEID'], dtype='object')"
      ]
     },
     "execution_count": 13,
     "metadata": {},
     "output_type": "execute_result"
    }
   ],
   "source": [
    "cols = rawData.columns[520:529]\n",
    "cols"
   ]
  },
  {
   "cell_type": "code",
   "execution_count": 14,
   "metadata": {},
   "outputs": [
    {
     "data": {
      "text/plain": [
       "BUILDINGID\n",
       "0    5249\n",
       "1    5196\n",
       "2    9492\n",
       "Name: BUILDINGID, dtype: int64"
      ]
     },
     "execution_count": 14,
     "metadata": {},
     "output_type": "execute_result"
    }
   ],
   "source": [
    "# Number of buildings in data set\n",
    "rawData.groupby('BUILDINGID')['BUILDINGID'].count()"
   ]
  },
  {
   "cell_type": "code",
   "execution_count": 15,
   "metadata": {},
   "outputs": [
    {
     "data": {
      "text/plain": [
       "19937"
      ]
     },
     "execution_count": 15,
     "metadata": {},
     "output_type": "execute_result"
    }
   ],
   "source": [
    "5249+5196+9492"
   ]
  },
  {
   "cell_type": "code",
   "execution_count": 155,
   "metadata": {},
   "outputs": [
    {
     "data": {
      "text/plain": [
       "<seaborn.axisgrid.FacetGrid at 0x2413b920b70>"
      ]
     },
     "execution_count": 155,
     "metadata": {},
     "output_type": "execute_result"
    },
    {
     "data": {
      "image/png": "[encoded data removed]",
      "text/plain": [
       "<Figure size 432x288 with 1 Axes>"
      ]
     },
     "metadata": {},
     "output_type": "display_data"
    }
   ],
   "source": [
    "# Instead of a group by, use seaborn to plot the count of observations in each building\n",
    "fg = sns.factorplot('BUILDINGID', data=rawData, kind='count', aspect=1.5)\n",
    "fg.set_xlabels('Building Number')\n",
    "fg.set_ylabels('Number of Observations')"
   ]
  },
  {
   "cell_type": "code",
   "execution_count": 17,
   "metadata": {},
   "outputs": [
    {
     "data": {
      "text/plain": [
       "FLOOR\n",
       "0    4369\n",
       "1    5002\n",
       "2    4416\n",
       "3    5048\n",
       "4    1102\n",
       "Name: FLOOR, dtype: int64"
      ]
     },
     "execution_count": 17,
     "metadata": {},
     "output_type": "execute_result"
    }
   ],
   "source": [
    "rawData.groupby('FLOOR')['FLOOR'].count()"
   ]
  },
  {
   "cell_type": "code",
   "execution_count": 18,
   "metadata": {},
   "outputs": [
    {
     "data": {
      "text/plain": [
       "BUILDINGID  FLOOR\n",
       "0           0        1059\n",
       "            1        1356\n",
       "            2        1443\n",
       "            3        1391\n",
       "1           0        1368\n",
       "            1        1484\n",
       "            2        1396\n",
       "            3         948\n",
       "2           0        1942\n",
       "            1        2162\n",
       "            2        1577\n",
       "            3        2709\n",
       "            4        1102\n",
       "Name: FLOOR, dtype: int64"
      ]
     },
     "execution_count": 18,
     "metadata": {},
     "output_type": "execute_result"
    }
   ],
   "source": [
    "# Number of observations in each floor of each building\n",
    "rawData.groupby(['BUILDINGID','FLOOR'])['FLOOR'].count()"
   ]
  },
  {
   "cell_type": "code",
   "execution_count": 154,
   "metadata": {},
   "outputs": [
    {
     "data": {
      "text/plain": [
       "<seaborn.axisgrid.FacetGrid at 0x2413b955f28>"
      ]
     },
     "execution_count": 154,
     "metadata": {},
     "output_type": "execute_result"
    },
    {
     "data": {
      "image/png": "[encoded data removed]",
      "text/plain": [
       "<Figure size 474.375x288 with 1 Axes>"
      ]
     },
     "metadata": {},
     "output_type": "display_data"
    }
   ],
   "source": [
    "# Again use saeborn to group by Sex and class\n",
    "g = sns.factorplot('BUILDINGID', data = rawData, hue = 'FLOOR', kind = 'count', aspect = 1.5)\n",
    "g.set_xlabels('Building Number')\n",
    "g.set_ylabels('Number of Observations')"
   ]
  },
  {
   "cell_type": "code",
   "execution_count": 20,
   "metadata": {},
   "outputs": [
    {
     "data": {
      "text/plain": [
       "Index(['FLOOR', 'BUILDINGID', 'SPACEID'], dtype='object')"
      ]
     },
     "execution_count": 20,
     "metadata": {},
     "output_type": "execute_result"
    }
   ],
   "source": [
    "cols"
   ]
  },
  {
   "cell_type": "code",
   "execution_count": 21,
   "metadata": {},
   "outputs": [
    {
     "data": {
      "text/html": [
       "<div>\n",
       "<style scoped>\n",
       "    .dataframe tbody tr th:only-of-type {\n",
       "        vertical-align: middle;\n",
       "    }\n",
       "\n",
       "    .dataframe tbody tr th {\n",
       "        vertical-align: top;\n",
       "    }\n",
       "\n",
       "    .dataframe thead th {\n",
       "        text-align: right;\n",
       "    }\n",
       "</style>\n",
       "<table border=\"1\" class=\"dataframe\">\n",
       "  <thead>\n",
       "    <tr style=\"text-align: right;\">\n",
       "      <th>SPACEID</th>\n",
       "      <th>1</th>\n",
       "      <th>2</th>\n",
       "      <th>3</th>\n",
       "      <th>4</th>\n",
       "      <th>5</th>\n",
       "      <th>6</th>\n",
       "      <th>7</th>\n",
       "      <th>8</th>\n",
       "      <th>9</th>\n",
       "      <th>10</th>\n",
       "      <th>...</th>\n",
       "      <th>243</th>\n",
       "      <th>244</th>\n",
       "      <th>245</th>\n",
       "      <th>246</th>\n",
       "      <th>247</th>\n",
       "      <th>248</th>\n",
       "      <th>249</th>\n",
       "      <th>250</th>\n",
       "      <th>253</th>\n",
       "      <th>254</th>\n",
       "    </tr>\n",
       "    <tr>\n",
       "      <th>BUILDINGID</th>\n",
       "      <th></th>\n",
       "      <th></th>\n",
       "      <th></th>\n",
       "      <th></th>\n",
       "      <th></th>\n",
       "      <th></th>\n",
       "      <th></th>\n",
       "      <th></th>\n",
       "      <th></th>\n",
       "      <th></th>\n",
       "      <th></th>\n",
       "      <th></th>\n",
       "      <th></th>\n",
       "      <th></th>\n",
       "      <th></th>\n",
       "      <th></th>\n",
       "      <th></th>\n",
       "      <th></th>\n",
       "      <th></th>\n",
       "      <th></th>\n",
       "      <th></th>\n",
       "    </tr>\n",
       "  </thead>\n",
       "  <tbody>\n",
       "    <tr>\n",
       "      <th>0</th>\n",
       "      <td>0</td>\n",
       "      <td>0</td>\n",
       "      <td>0</td>\n",
       "      <td>0</td>\n",
       "      <td>0</td>\n",
       "      <td>0</td>\n",
       "      <td>0</td>\n",
       "      <td>0</td>\n",
       "      <td>0</td>\n",
       "      <td>0</td>\n",
       "      <td>...</td>\n",
       "      <td>0</td>\n",
       "      <td>0</td>\n",
       "      <td>0</td>\n",
       "      <td>0</td>\n",
       "      <td>0</td>\n",
       "      <td>0</td>\n",
       "      <td>0</td>\n",
       "      <td>0</td>\n",
       "      <td>0</td>\n",
       "      <td>0</td>\n",
       "    </tr>\n",
       "    <tr>\n",
       "      <th>1</th>\n",
       "      <td>65</td>\n",
       "      <td>80</td>\n",
       "      <td>97</td>\n",
       "      <td>95</td>\n",
       "      <td>60</td>\n",
       "      <td>79</td>\n",
       "      <td>38</td>\n",
       "      <td>56</td>\n",
       "      <td>60</td>\n",
       "      <td>89</td>\n",
       "      <td>...</td>\n",
       "      <td>19</td>\n",
       "      <td>50</td>\n",
       "      <td>20</td>\n",
       "      <td>20</td>\n",
       "      <td>70</td>\n",
       "      <td>90</td>\n",
       "      <td>30</td>\n",
       "      <td>0</td>\n",
       "      <td>0</td>\n",
       "      <td>0</td>\n",
       "    </tr>\n",
       "    <tr>\n",
       "      <th>2</th>\n",
       "      <td>0</td>\n",
       "      <td>0</td>\n",
       "      <td>0</td>\n",
       "      <td>0</td>\n",
       "      <td>0</td>\n",
       "      <td>0</td>\n",
       "      <td>0</td>\n",
       "      <td>0</td>\n",
       "      <td>0</td>\n",
       "      <td>0</td>\n",
       "      <td>...</td>\n",
       "      <td>30</td>\n",
       "      <td>20</td>\n",
       "      <td>20</td>\n",
       "      <td>20</td>\n",
       "      <td>30</td>\n",
       "      <td>20</td>\n",
       "      <td>0</td>\n",
       "      <td>20</td>\n",
       "      <td>20</td>\n",
       "      <td>10</td>\n",
       "    </tr>\n",
       "  </tbody>\n",
       "</table>\n",
       "<p>3 rows × 123 columns</p>\n",
       "</div>"
      ],
      "text/plain": [
       "SPACEID     1    2    3    4    5    6    7    8    9    10  ...   243  244  \\\n",
       "BUILDINGID                                                   ...              \n",
       "0             0    0    0    0    0    0    0    0    0    0 ...     0    0   \n",
       "1            65   80   97   95   60   79   38   56   60   89 ...    19   50   \n",
       "2             0    0    0    0    0    0    0    0    0    0 ...    30   20   \n",
       "\n",
       "SPACEID     245  246  247  248  249  250  253  254  \n",
       "BUILDINGID                                          \n",
       "0             0    0    0    0    0    0    0    0  \n",
       "1            20   20   70   90   30    0    0    0  \n",
       "2            20   20   30   20    0   20   20   10  \n",
       "\n",
       "[3 rows x 123 columns]"
      ]
     },
     "execution_count": 21,
     "metadata": {},
     "output_type": "execute_result"
    }
   ],
   "source": [
    "# Table showing default in limit balance groups and education levels\n",
    "table = pd.crosstab(index=[rawData.BUILDINGID], columns=[rawData.SPACEID])\n",
    "table"
   ]
  },
  {
   "cell_type": "markdown",
   "metadata": {},
   "source": [
    "# Separate Dataset by building"
   ]
  },
  {
   "cell_type": "code",
   "execution_count": 22,
   "metadata": {},
   "outputs": [],
   "source": [
    "# Create variable for each building\n",
    "\n",
    "BLDG_0 = rawData[rawData['BUILDINGID'] == 0]\n",
    "BLDG_1 = rawData[rawData['BUILDINGID'] == 1]\n",
    "BLDG_2 = rawData[rawData['BUILDINGID'] == 2]"
   ]
  },
  {
   "cell_type": "code",
   "execution_count": 23,
   "metadata": {},
   "outputs": [
    {
     "data": {
      "text/plain": [
       "(      WAP520  FLOOR  BUILDINGID  SPACEID\n",
       " 4        100      0           0      122\n",
       " 7119     100      0           0      102\n",
       " 7120     100      0           0      110\n",
       " 7121     100      0           0      111\n",
       " 7122     100      0           0      107, (5249, 523))"
      ]
     },
     "execution_count": 23,
     "metadata": {},
     "output_type": "execute_result"
    }
   ],
   "source": [
    "BLDG_0.iloc[0:5, 519:], BLDG_0.shape"
   ]
  },
  {
   "cell_type": "code",
   "execution_count": 24,
   "metadata": {},
   "outputs": [
    {
     "name": "stderr",
     "output_type": "stream",
     "text": [
      "C:\\Users\\Christy McCanless\\Anaconda3\\lib\\site-packages\\ipykernel_launcher.py:3: SettingWithCopyWarning: \n",
      "A value is trying to be set on a copy of a slice from a DataFrame.\n",
      "Try using .loc[row_indexer,col_indexer] = value instead\n",
      "\n",
      "See the caveats in the documentation: http://pandas.pydata.org/pandas-docs/stable/indexing.html#indexing-view-versus-copy\n",
      "  This is separate from the ipykernel package so we can avoid doing imports until\n",
      "C:\\Users\\Christy McCanless\\Anaconda3\\lib\\site-packages\\ipykernel_launcher.py:4: SettingWithCopyWarning: \n",
      "A value is trying to be set on a copy of a slice from a DataFrame.\n",
      "Try using .loc[row_indexer,col_indexer] = value instead\n",
      "\n",
      "See the caveats in the documentation: http://pandas.pydata.org/pandas-docs/stable/indexing.html#indexing-view-versus-copy\n",
      "  after removing the cwd from sys.path.\n",
      "C:\\Users\\Christy McCanless\\Anaconda3\\lib\\site-packages\\ipykernel_launcher.py:5: SettingWithCopyWarning: \n",
      "A value is trying to be set on a copy of a slice from a DataFrame.\n",
      "Try using .loc[row_indexer,col_indexer] = value instead\n",
      "\n",
      "See the caveats in the documentation: http://pandas.pydata.org/pandas-docs/stable/indexing.html#indexing-view-versus-copy\n",
      "  \"\"\"\n"
     ]
    },
    {
     "data": {
      "text/html": [
       "<div>\n",
       "<style scoped>\n",
       "    .dataframe tbody tr th:only-of-type {\n",
       "        vertical-align: middle;\n",
       "    }\n",
       "\n",
       "    .dataframe tbody tr th {\n",
       "        vertical-align: top;\n",
       "    }\n",
       "\n",
       "    .dataframe thead th {\n",
       "        text-align: right;\n",
       "    }\n",
       "</style>\n",
       "<table border=\"1\" class=\"dataframe\">\n",
       "  <thead>\n",
       "    <tr style=\"text-align: right;\">\n",
       "      <th></th>\n",
       "      <th>FLOOR</th>\n",
       "      <th>BUILDINGID</th>\n",
       "      <th>SPACEID</th>\n",
       "      <th>UID</th>\n",
       "    </tr>\n",
       "  </thead>\n",
       "  <tbody>\n",
       "    <tr>\n",
       "      <th>4</th>\n",
       "      <td>0</td>\n",
       "      <td>0</td>\n",
       "      <td>122</td>\n",
       "      <td>0_122</td>\n",
       "    </tr>\n",
       "    <tr>\n",
       "      <th>7119</th>\n",
       "      <td>0</td>\n",
       "      <td>0</td>\n",
       "      <td>102</td>\n",
       "      <td>0_102</td>\n",
       "    </tr>\n",
       "    <tr>\n",
       "      <th>7120</th>\n",
       "      <td>0</td>\n",
       "      <td>0</td>\n",
       "      <td>110</td>\n",
       "      <td>0_110</td>\n",
       "    </tr>\n",
       "    <tr>\n",
       "      <th>7121</th>\n",
       "      <td>0</td>\n",
       "      <td>0</td>\n",
       "      <td>111</td>\n",
       "      <td>0_111</td>\n",
       "    </tr>\n",
       "    <tr>\n",
       "      <th>7122</th>\n",
       "      <td>0</td>\n",
       "      <td>0</td>\n",
       "      <td>107</td>\n",
       "      <td>0_107</td>\n",
       "    </tr>\n",
       "  </tbody>\n",
       "</table>\n",
       "</div>"
      ],
      "text/plain": [
       "      FLOOR  BUILDINGID  SPACEID    UID\n",
       "4         0           0      122  0_122\n",
       "7119      0           0      102  0_102\n",
       "7120      0           0      110  0_110\n",
       "7121      0           0      111  0_111\n",
       "7122      0           0      107  0_107"
      ]
     },
     "execution_count": 24,
     "metadata": {},
     "output_type": "execute_result"
    }
   ],
   "source": [
    "# Create unique variable combining Floor, Building and SpaceID\n",
    "\n",
    "BLDG_0['UID'] = BLDG_0['FLOOR'].astype('str') + '_' + BLDG_0['SPACEID'].astype('str')\n",
    "BLDG_1['UID'] = BLDG_1['FLOOR'].astype('str') + '_' + BLDG_1['SPACEID'].astype('str')\n",
    "BLDG_2['UID'] = BLDG_2['FLOOR'].astype('str') + '_' + BLDG_2['SPACEID'].astype('str')\n",
    "\n",
    "BLDG_0.iloc[0:5, 520:]"
   ]
  },
  {
   "cell_type": "code",
   "execution_count": 25,
   "metadata": {},
   "outputs": [
    {
     "data": {
      "text/plain": [
       "(5249, 524)"
      ]
     },
     "execution_count": 25,
     "metadata": {},
     "output_type": "execute_result"
    }
   ],
   "source": [
    "BLDG_0.shape"
   ]
  },
  {
   "cell_type": "code",
   "execution_count": 26,
   "metadata": {},
   "outputs": [
    {
     "name": "stdout",
     "output_type": "stream",
     "text": [
      "Summary of dependent variable sample for Building 0:\n"
     ]
    },
    {
     "data": {
      "text/plain": [
       "4       0_122\n",
       "7119    0_102\n",
       "7120    0_110\n",
       "7121    0_111\n",
       "7122    0_107\n",
       "Name: UID, dtype: object"
      ]
     },
     "execution_count": 26,
     "metadata": {},
     "output_type": "execute_result"
    }
   ],
   "source": [
    "# Set dependent variable\n",
    "print('Summary of dependent variable sample for Building 0:')\n",
    "depVar_0 = BLDG_0['UID']\n",
    "depVar_0[0:5,]"
   ]
  },
  {
   "cell_type": "code",
   "execution_count": 27,
   "metadata": {},
   "outputs": [
    {
     "name": "stdout",
     "output_type": "stream",
     "text": [
      "Summary of dependent variable sample for Building 1:\n"
     ]
    },
    {
     "data": {
      "text/plain": [
       "0    2_106\n",
       "1    2_106\n",
       "2    2_103\n",
       "3    2_102\n",
       "5    2_105\n",
       "Name: UID, dtype: object"
      ]
     },
     "execution_count": 27,
     "metadata": {},
     "output_type": "execute_result"
    }
   ],
   "source": [
    "# Set dependent variable\n",
    "print('Summary of dependent variable sample for Building 1:')\n",
    "depVar_1 = BLDG_1['UID']\n",
    "depVar_1[0:5,]"
   ]
  },
  {
   "cell_type": "code",
   "execution_count": 28,
   "metadata": {},
   "outputs": [
    {
     "name": "stdout",
     "output_type": "stream",
     "text": [
      "Summary of dependent variable sample for Building 2:\n"
     ]
    },
    {
     "data": {
      "text/plain": [
       "46    3_247\n",
       "47    3_248\n",
       "49    3_247\n",
       "50    3_246\n",
       "51    3_245\n",
       "Name: UID, dtype: object"
      ]
     },
     "execution_count": 28,
     "metadata": {},
     "output_type": "execute_result"
    }
   ],
   "source": [
    "# Set dependent variable\n",
    "print('Summary of dependent variable sample for Building 2:')\n",
    "depVar_2 = BLDG_2['UID']\n",
    "depVar_2[0:5,]"
   ]
  },
  {
   "cell_type": "code",
   "execution_count": 29,
   "metadata": {},
   "outputs": [
    {
     "data": {
      "text/plain": [
       "array([ 15,   0,   3, ..., 254, 251, 250], dtype=int64)"
      ]
     },
     "execution_count": 29,
     "metadata": {},
     "output_type": "execute_result"
    }
   ],
   "source": [
    "# Change depVar to labels - BLDG 0\n",
    "labelencoder_depVar_0 = LabelEncoder()\n",
    "depVar_0 = labelencoder_depVar_0.fit_transform(depVar_0)\n",
    "depVar_0"
   ]
  },
  {
   "cell_type": "code",
   "execution_count": 30,
   "metadata": {},
   "outputs": [
    {
     "data": {
      "text/plain": [
       "array([ 93,  93,  90, ..., 146, 143, 142], dtype=int64)"
      ]
     },
     "execution_count": 30,
     "metadata": {},
     "output_type": "execute_result"
    }
   ],
   "source": [
    "# Change depVar to labels - BLDG 1\n",
    "labelencoder_depVar_1 = LabelEncoder()\n",
    "depVar_1 = labelencoder_depVar_1.fit_transform(depVar_1)\n",
    "depVar_1"
   ]
  },
  {
   "cell_type": "code",
   "execution_count": 31,
   "metadata": {},
   "outputs": [
    {
     "data": {
      "text/plain": [
       "array([247, 248, 247, ...,  90,  81,  81], dtype=int64)"
      ]
     },
     "execution_count": 31,
     "metadata": {},
     "output_type": "execute_result"
    }
   ],
   "source": [
    "# Change depVar to labels - BLDG 2\n",
    "labelencoder_depVar_2 = LabelEncoder()\n",
    "depVar_2 = labelencoder_depVar_2.fit_transform(depVar_2)\n",
    "depVar_2"
   ]
  },
  {
   "cell_type": "code",
   "execution_count": 32,
   "metadata": {},
   "outputs": [
    {
     "name": "stderr",
     "output_type": "stream",
     "text": [
      "C:\\Users\\Christy McCanless\\Anaconda3\\lib\\site-packages\\ipykernel_launcher.py:2: SettingWithCopyWarning: \n",
      "A value is trying to be set on a copy of a slice from a DataFrame.\n",
      "Try using .loc[row_indexer,col_indexer] = value instead\n",
      "\n",
      "See the caveats in the documentation: http://pandas.pydata.org/pandas-docs/stable/indexing.html#indexing-view-versus-copy\n",
      "  \n",
      "C:\\Users\\Christy McCanless\\Anaconda3\\lib\\site-packages\\ipykernel_launcher.py:3: SettingWithCopyWarning: \n",
      "A value is trying to be set on a copy of a slice from a DataFrame.\n",
      "Try using .loc[row_indexer,col_indexer] = value instead\n",
      "\n",
      "See the caveats in the documentation: http://pandas.pydata.org/pandas-docs/stable/indexing.html#indexing-view-versus-copy\n",
      "  This is separate from the ipykernel package so we can avoid doing imports until\n",
      "C:\\Users\\Christy McCanless\\Anaconda3\\lib\\site-packages\\ipykernel_launcher.py:4: SettingWithCopyWarning: \n",
      "A value is trying to be set on a copy of a slice from a DataFrame.\n",
      "Try using .loc[row_indexer,col_indexer] = value instead\n",
      "\n",
      "See the caveats in the documentation: http://pandas.pydata.org/pandas-docs/stable/indexing.html#indexing-view-versus-copy\n",
      "  after removing the cwd from sys.path.\n"
     ]
    },
    {
     "data": {
      "text/html": [
       "<div>\n",
       "<style scoped>\n",
       "    .dataframe tbody tr th:only-of-type {\n",
       "        vertical-align: middle;\n",
       "    }\n",
       "\n",
       "    .dataframe tbody tr th {\n",
       "        vertical-align: top;\n",
       "    }\n",
       "\n",
       "    .dataframe thead th {\n",
       "        text-align: right;\n",
       "    }\n",
       "</style>\n",
       "<table border=\"1\" class=\"dataframe\">\n",
       "  <thead>\n",
       "    <tr style=\"text-align: right;\">\n",
       "      <th></th>\n",
       "      <th>WAP519</th>\n",
       "      <th>WAP520</th>\n",
       "      <th>FLOOR</th>\n",
       "      <th>BUILDINGID</th>\n",
       "      <th>SPACEID</th>\n",
       "      <th>UID</th>\n",
       "      <th>DEPVAR</th>\n",
       "    </tr>\n",
       "  </thead>\n",
       "  <tbody>\n",
       "    <tr>\n",
       "      <th>4</th>\n",
       "      <td>100</td>\n",
       "      <td>100</td>\n",
       "      <td>0</td>\n",
       "      <td>0</td>\n",
       "      <td>122</td>\n",
       "      <td>0_122</td>\n",
       "      <td>15</td>\n",
       "    </tr>\n",
       "    <tr>\n",
       "      <th>7119</th>\n",
       "      <td>100</td>\n",
       "      <td>100</td>\n",
       "      <td>0</td>\n",
       "      <td>0</td>\n",
       "      <td>102</td>\n",
       "      <td>0_102</td>\n",
       "      <td>0</td>\n",
       "    </tr>\n",
       "    <tr>\n",
       "      <th>7120</th>\n",
       "      <td>100</td>\n",
       "      <td>100</td>\n",
       "      <td>0</td>\n",
       "      <td>0</td>\n",
       "      <td>110</td>\n",
       "      <td>0_110</td>\n",
       "      <td>3</td>\n",
       "    </tr>\n",
       "    <tr>\n",
       "      <th>7121</th>\n",
       "      <td>100</td>\n",
       "      <td>100</td>\n",
       "      <td>0</td>\n",
       "      <td>0</td>\n",
       "      <td>111</td>\n",
       "      <td>0_111</td>\n",
       "      <td>4</td>\n",
       "    </tr>\n",
       "    <tr>\n",
       "      <th>7122</th>\n",
       "      <td>100</td>\n",
       "      <td>100</td>\n",
       "      <td>0</td>\n",
       "      <td>0</td>\n",
       "      <td>107</td>\n",
       "      <td>0_107</td>\n",
       "      <td>2</td>\n",
       "    </tr>\n",
       "  </tbody>\n",
       "</table>\n",
       "</div>"
      ],
      "text/plain": [
       "      WAP519  WAP520  FLOOR  BUILDINGID  SPACEID    UID  DEPVAR\n",
       "4        100     100      0           0      122  0_122      15\n",
       "7119     100     100      0           0      102  0_102       0\n",
       "7120     100     100      0           0      110  0_110       3\n",
       "7121     100     100      0           0      111  0_111       4\n",
       "7122     100     100      0           0      107  0_107       2"
      ]
     },
     "execution_count": 32,
     "metadata": {},
     "output_type": "execute_result"
    }
   ],
   "source": [
    "# Create new feature DEPVAR or dependent variable\n",
    "BLDG_0['DEPVAR'] = depVar_0\n",
    "BLDG_1['DEPVAR'] = depVar_1\n",
    "BLDG_2['DEPVAR'] = depVar_2\n",
    "\n",
    "BLDG_0.iloc[0:5, 518:]"
   ]
  },
  {
   "cell_type": "code",
   "execution_count": 33,
   "metadata": {},
   "outputs": [
    {
     "data": {
      "text/html": [
       "<div>\n",
       "<style scoped>\n",
       "    .dataframe tbody tr th:only-of-type {\n",
       "        vertical-align: middle;\n",
       "    }\n",
       "\n",
       "    .dataframe tbody tr th {\n",
       "        vertical-align: top;\n",
       "    }\n",
       "\n",
       "    .dataframe thead th {\n",
       "        text-align: right;\n",
       "    }\n",
       "</style>\n",
       "<table border=\"1\" class=\"dataframe\">\n",
       "  <thead>\n",
       "    <tr style=\"text-align: right;\">\n",
       "      <th></th>\n",
       "      <th>WAP520</th>\n",
       "      <th>FLOOR</th>\n",
       "      <th>BUILDINGID</th>\n",
       "      <th>SPACEID</th>\n",
       "      <th>UID</th>\n",
       "    </tr>\n",
       "    <tr>\n",
       "      <th>DEPVAR</th>\n",
       "      <th></th>\n",
       "      <th></th>\n",
       "      <th></th>\n",
       "      <th></th>\n",
       "      <th></th>\n",
       "    </tr>\n",
       "  </thead>\n",
       "  <tbody>\n",
       "    <tr>\n",
       "      <th>0</th>\n",
       "      <td>20</td>\n",
       "      <td>20</td>\n",
       "      <td>20</td>\n",
       "      <td>20</td>\n",
       "      <td>20</td>\n",
       "    </tr>\n",
       "    <tr>\n",
       "      <th>1</th>\n",
       "      <td>10</td>\n",
       "      <td>10</td>\n",
       "      <td>10</td>\n",
       "      <td>10</td>\n",
       "      <td>10</td>\n",
       "    </tr>\n",
       "    <tr>\n",
       "      <th>2</th>\n",
       "      <td>10</td>\n",
       "      <td>10</td>\n",
       "      <td>10</td>\n",
       "      <td>10</td>\n",
       "      <td>10</td>\n",
       "    </tr>\n",
       "    <tr>\n",
       "      <th>3</th>\n",
       "      <td>10</td>\n",
       "      <td>10</td>\n",
       "      <td>10</td>\n",
       "      <td>10</td>\n",
       "      <td>10</td>\n",
       "    </tr>\n",
       "    <tr>\n",
       "      <th>4</th>\n",
       "      <td>20</td>\n",
       "      <td>20</td>\n",
       "      <td>20</td>\n",
       "      <td>20</td>\n",
       "      <td>20</td>\n",
       "    </tr>\n",
       "  </tbody>\n",
       "</table>\n",
       "</div>"
      ],
      "text/plain": [
       "        WAP520  FLOOR  BUILDINGID  SPACEID  UID\n",
       "DEPVAR                                         \n",
       "0           20     20          20       20   20\n",
       "1           10     10          10       10   10\n",
       "2           10     10          10       10   10\n",
       "3           10     10          10       10   10\n",
       "4           20     20          20       20   20"
      ]
     },
     "execution_count": 33,
     "metadata": {},
     "output_type": "execute_result"
    }
   ],
   "source": [
    "BLDG_0.groupby(['DEPVAR']).count().iloc[0:5, 519:]"
   ]
  },
  {
   "cell_type": "code",
   "execution_count": 34,
   "metadata": {},
   "outputs": [
    {
     "data": {
      "text/plain": [
       "(5249, 525)"
      ]
     },
     "execution_count": 34,
     "metadata": {},
     "output_type": "execute_result"
    }
   ],
   "source": [
    "BLDG_0.shape"
   ]
  },
  {
   "cell_type": "code",
   "execution_count": 35,
   "metadata": {},
   "outputs": [
    {
     "data": {
      "text/html": [
       "<div>\n",
       "<style scoped>\n",
       "    .dataframe tbody tr th:only-of-type {\n",
       "        vertical-align: middle;\n",
       "    }\n",
       "\n",
       "    .dataframe tbody tr th {\n",
       "        vertical-align: top;\n",
       "    }\n",
       "\n",
       "    .dataframe thead th {\n",
       "        text-align: right;\n",
       "    }\n",
       "</style>\n",
       "<table border=\"1\" class=\"dataframe\">\n",
       "  <thead>\n",
       "    <tr style=\"text-align: right;\">\n",
       "      <th></th>\n",
       "      <th>WAP520</th>\n",
       "      <th>FLOOR</th>\n",
       "      <th>BUILDINGID</th>\n",
       "      <th>SPACEID</th>\n",
       "      <th>DEPVAR</th>\n",
       "    </tr>\n",
       "  </thead>\n",
       "  <tbody>\n",
       "    <tr>\n",
       "      <th>count</th>\n",
       "      <td>5249.0</td>\n",
       "      <td>5249.000000</td>\n",
       "      <td>5249.0</td>\n",
       "      <td>5249.000000</td>\n",
       "      <td>5249.000000</td>\n",
       "    </tr>\n",
       "    <tr>\n",
       "      <th>mean</th>\n",
       "      <td>100.0</td>\n",
       "      <td>1.603163</td>\n",
       "      <td>0.0</td>\n",
       "      <td>167.989903</td>\n",
       "      <td>128.514574</td>\n",
       "    </tr>\n",
       "    <tr>\n",
       "      <th>std</th>\n",
       "      <td>0.0</td>\n",
       "      <td>1.083094</td>\n",
       "      <td>0.0</td>\n",
       "      <td>51.158690</td>\n",
       "      <td>73.575697</td>\n",
       "    </tr>\n",
       "    <tr>\n",
       "      <th>min</th>\n",
       "      <td>100.0</td>\n",
       "      <td>0.000000</td>\n",
       "      <td>0.0</td>\n",
       "      <td>101.000000</td>\n",
       "      <td>0.000000</td>\n",
       "    </tr>\n",
       "    <tr>\n",
       "      <th>25%</th>\n",
       "      <td>100.0</td>\n",
       "      <td>1.000000</td>\n",
       "      <td>0.0</td>\n",
       "      <td>118.000000</td>\n",
       "      <td>62.000000</td>\n",
       "    </tr>\n",
       "    <tr>\n",
       "      <th>50%</th>\n",
       "      <td>100.0</td>\n",
       "      <td>2.000000</td>\n",
       "      <td>0.0</td>\n",
       "      <td>140.000000</td>\n",
       "      <td>129.000000</td>\n",
       "    </tr>\n",
       "    <tr>\n",
       "      <th>75%</th>\n",
       "      <td>100.0</td>\n",
       "      <td>3.000000</td>\n",
       "      <td>0.0</td>\n",
       "      <td>218.000000</td>\n",
       "      <td>191.000000</td>\n",
       "    </tr>\n",
       "    <tr>\n",
       "      <th>max</th>\n",
       "      <td>100.0</td>\n",
       "      <td>3.000000</td>\n",
       "      <td>0.0</td>\n",
       "      <td>241.000000</td>\n",
       "      <td>255.000000</td>\n",
       "    </tr>\n",
       "  </tbody>\n",
       "</table>\n",
       "</div>"
      ],
      "text/plain": [
       "       WAP520        FLOOR  BUILDINGID      SPACEID       DEPVAR\n",
       "count  5249.0  5249.000000      5249.0  5249.000000  5249.000000\n",
       "mean    100.0     1.603163         0.0   167.989903   128.514574\n",
       "std       0.0     1.083094         0.0    51.158690    73.575697\n",
       "min     100.0     0.000000         0.0   101.000000     0.000000\n",
       "25%     100.0     1.000000         0.0   118.000000    62.000000\n",
       "50%     100.0     2.000000         0.0   140.000000   129.000000\n",
       "75%     100.0     3.000000         0.0   218.000000   191.000000\n",
       "max     100.0     3.000000         0.0   241.000000   255.000000"
      ]
     },
     "execution_count": 35,
     "metadata": {},
     "output_type": "execute_result"
    }
   ],
   "source": [
    "BLDG_0.describe().iloc[:,519:]"
   ]
  },
  {
   "cell_type": "code",
   "execution_count": 36,
   "metadata": {},
   "outputs": [
    {
     "data": {
      "text/html": [
       "<div>\n",
       "<style scoped>\n",
       "    .dataframe tbody tr th:only-of-type {\n",
       "        vertical-align: middle;\n",
       "    }\n",
       "\n",
       "    .dataframe tbody tr th {\n",
       "        vertical-align: top;\n",
       "    }\n",
       "\n",
       "    .dataframe thead th {\n",
       "        text-align: right;\n",
       "    }\n",
       "</style>\n",
       "<table border=\"1\" class=\"dataframe\">\n",
       "  <thead>\n",
       "    <tr style=\"text-align: right;\">\n",
       "      <th>SPACEID</th>\n",
       "      <th>101</th>\n",
       "      <th>102</th>\n",
       "      <th>103</th>\n",
       "      <th>104</th>\n",
       "      <th>105</th>\n",
       "      <th>106</th>\n",
       "      <th>107</th>\n",
       "      <th>108</th>\n",
       "      <th>109</th>\n",
       "      <th>110</th>\n",
       "      <th>...</th>\n",
       "      <th>230</th>\n",
       "      <th>231</th>\n",
       "      <th>232</th>\n",
       "      <th>233</th>\n",
       "      <th>234</th>\n",
       "      <th>235</th>\n",
       "      <th>236</th>\n",
       "      <th>237</th>\n",
       "      <th>241</th>\n",
       "      <th>All</th>\n",
       "    </tr>\n",
       "    <tr>\n",
       "      <th>FLOOR</th>\n",
       "      <th></th>\n",
       "      <th></th>\n",
       "      <th></th>\n",
       "      <th></th>\n",
       "      <th></th>\n",
       "      <th></th>\n",
       "      <th></th>\n",
       "      <th></th>\n",
       "      <th></th>\n",
       "      <th></th>\n",
       "      <th></th>\n",
       "      <th></th>\n",
       "      <th></th>\n",
       "      <th></th>\n",
       "      <th></th>\n",
       "      <th></th>\n",
       "      <th></th>\n",
       "      <th></th>\n",
       "      <th></th>\n",
       "      <th></th>\n",
       "      <th></th>\n",
       "    </tr>\n",
       "  </thead>\n",
       "  <tbody>\n",
       "    <tr>\n",
       "      <th>0</th>\n",
       "      <td>NaN</td>\n",
       "      <td>20.0</td>\n",
       "      <td>NaN</td>\n",
       "      <td>NaN</td>\n",
       "      <td>NaN</td>\n",
       "      <td>10.0</td>\n",
       "      <td>10.0</td>\n",
       "      <td>NaN</td>\n",
       "      <td>NaN</td>\n",
       "      <td>10.0</td>\n",
       "      <td>...</td>\n",
       "      <td>20.0</td>\n",
       "      <td>20.0</td>\n",
       "      <td>19.0</td>\n",
       "      <td>20.0</td>\n",
       "      <td>20.0</td>\n",
       "      <td>23.0</td>\n",
       "      <td>20.0</td>\n",
       "      <td>20.0</td>\n",
       "      <td>NaN</td>\n",
       "      <td>1059</td>\n",
       "    </tr>\n",
       "    <tr>\n",
       "      <th>1</th>\n",
       "      <td>20.0</td>\n",
       "      <td>30.0</td>\n",
       "      <td>30.0</td>\n",
       "      <td>29.0</td>\n",
       "      <td>29.0</td>\n",
       "      <td>30.0</td>\n",
       "      <td>30.0</td>\n",
       "      <td>29.0</td>\n",
       "      <td>29.0</td>\n",
       "      <td>20.0</td>\n",
       "      <td>...</td>\n",
       "      <td>19.0</td>\n",
       "      <td>NaN</td>\n",
       "      <td>NaN</td>\n",
       "      <td>20.0</td>\n",
       "      <td>20.0</td>\n",
       "      <td>20.0</td>\n",
       "      <td>NaN</td>\n",
       "      <td>NaN</td>\n",
       "      <td>NaN</td>\n",
       "      <td>1356</td>\n",
       "    </tr>\n",
       "    <tr>\n",
       "      <th>2</th>\n",
       "      <td>19.0</td>\n",
       "      <td>29.0</td>\n",
       "      <td>20.0</td>\n",
       "      <td>20.0</td>\n",
       "      <td>29.0</td>\n",
       "      <td>20.0</td>\n",
       "      <td>20.0</td>\n",
       "      <td>20.0</td>\n",
       "      <td>19.0</td>\n",
       "      <td>19.0</td>\n",
       "      <td>...</td>\n",
       "      <td>20.0</td>\n",
       "      <td>30.0</td>\n",
       "      <td>NaN</td>\n",
       "      <td>NaN</td>\n",
       "      <td>19.0</td>\n",
       "      <td>20.0</td>\n",
       "      <td>NaN</td>\n",
       "      <td>NaN</td>\n",
       "      <td>25.0</td>\n",
       "      <td>1443</td>\n",
       "    </tr>\n",
       "    <tr>\n",
       "      <th>3</th>\n",
       "      <td>20.0</td>\n",
       "      <td>20.0</td>\n",
       "      <td>20.0</td>\n",
       "      <td>20.0</td>\n",
       "      <td>20.0</td>\n",
       "      <td>19.0</td>\n",
       "      <td>20.0</td>\n",
       "      <td>19.0</td>\n",
       "      <td>20.0</td>\n",
       "      <td>20.0</td>\n",
       "      <td>...</td>\n",
       "      <td>20.0</td>\n",
       "      <td>20.0</td>\n",
       "      <td>NaN</td>\n",
       "      <td>NaN</td>\n",
       "      <td>20.0</td>\n",
       "      <td>19.0</td>\n",
       "      <td>30.0</td>\n",
       "      <td>NaN</td>\n",
       "      <td>NaN</td>\n",
       "      <td>1391</td>\n",
       "    </tr>\n",
       "    <tr>\n",
       "      <th>All</th>\n",
       "      <td>59.0</td>\n",
       "      <td>99.0</td>\n",
       "      <td>70.0</td>\n",
       "      <td>69.0</td>\n",
       "      <td>78.0</td>\n",
       "      <td>79.0</td>\n",
       "      <td>80.0</td>\n",
       "      <td>68.0</td>\n",
       "      <td>68.0</td>\n",
       "      <td>69.0</td>\n",
       "      <td>...</td>\n",
       "      <td>79.0</td>\n",
       "      <td>70.0</td>\n",
       "      <td>19.0</td>\n",
       "      <td>40.0</td>\n",
       "      <td>79.0</td>\n",
       "      <td>82.0</td>\n",
       "      <td>50.0</td>\n",
       "      <td>20.0</td>\n",
       "      <td>25.0</td>\n",
       "      <td>5249</td>\n",
       "    </tr>\n",
       "  </tbody>\n",
       "</table>\n",
       "<p>5 rows × 79 columns</p>\n",
       "</div>"
      ],
      "text/plain": [
       "SPACEID   101   102   103   104   105   106   107   108   109   110  ...   \\\n",
       "FLOOR                                                                ...    \n",
       "0         NaN  20.0   NaN   NaN   NaN  10.0  10.0   NaN   NaN  10.0  ...    \n",
       "1        20.0  30.0  30.0  29.0  29.0  30.0  30.0  29.0  29.0  20.0  ...    \n",
       "2        19.0  29.0  20.0  20.0  29.0  20.0  20.0  20.0  19.0  19.0  ...    \n",
       "3        20.0  20.0  20.0  20.0  20.0  19.0  20.0  19.0  20.0  20.0  ...    \n",
       "All      59.0  99.0  70.0  69.0  78.0  79.0  80.0  68.0  68.0  69.0  ...    \n",
       "\n",
       "SPACEID   230   231   232   233   234   235   236   237   241   All  \n",
       "FLOOR                                                                \n",
       "0        20.0  20.0  19.0  20.0  20.0  23.0  20.0  20.0   NaN  1059  \n",
       "1        19.0   NaN   NaN  20.0  20.0  20.0   NaN   NaN   NaN  1356  \n",
       "2        20.0  30.0   NaN   NaN  19.0  20.0   NaN   NaN  25.0  1443  \n",
       "3        20.0  20.0   NaN   NaN  20.0  19.0  30.0   NaN   NaN  1391  \n",
       "All      79.0  70.0  19.0  40.0  79.0  82.0  50.0  20.0  25.0  5249  \n",
       "\n",
       "[5 rows x 79 columns]"
      ]
     },
     "execution_count": 36,
     "metadata": {},
     "output_type": "execute_result"
    }
   ],
   "source": [
    "BLDG_0.pivot_table('DEPVAR', 'FLOOR', 'SPACEID', aggfunc=len, margins = True)"
   ]
  },
  {
   "cell_type": "code",
   "execution_count": 37,
   "metadata": {},
   "outputs": [
    {
     "data": {
      "text/html": [
       "<div>\n",
       "<style scoped>\n",
       "    .dataframe tbody tr th:only-of-type {\n",
       "        vertical-align: middle;\n",
       "    }\n",
       "\n",
       "    .dataframe tbody tr th {\n",
       "        vertical-align: top;\n",
       "    }\n",
       "\n",
       "    .dataframe thead th {\n",
       "        text-align: right;\n",
       "    }\n",
       "</style>\n",
       "<table border=\"1\" class=\"dataframe\">\n",
       "  <thead>\n",
       "    <tr style=\"text-align: right;\">\n",
       "      <th></th>\n",
       "      <th>DEPVAR</th>\n",
       "    </tr>\n",
       "    <tr>\n",
       "      <th>FLOOR</th>\n",
       "      <th></th>\n",
       "    </tr>\n",
       "  </thead>\n",
       "  <tbody>\n",
       "    <tr>\n",
       "      <th>0</th>\n",
       "      <td>1059</td>\n",
       "    </tr>\n",
       "    <tr>\n",
       "      <th>1</th>\n",
       "      <td>1356</td>\n",
       "    </tr>\n",
       "    <tr>\n",
       "      <th>2</th>\n",
       "      <td>1443</td>\n",
       "    </tr>\n",
       "    <tr>\n",
       "      <th>3</th>\n",
       "      <td>1391</td>\n",
       "    </tr>\n",
       "    <tr>\n",
       "      <th>All</th>\n",
       "      <td>5249</td>\n",
       "    </tr>\n",
       "  </tbody>\n",
       "</table>\n",
       "</div>"
      ],
      "text/plain": [
       "       DEPVAR\n",
       "FLOOR        \n",
       "0        1059\n",
       "1        1356\n",
       "2        1443\n",
       "3        1391\n",
       "All      5249"
      ]
     },
     "execution_count": 37,
     "metadata": {},
     "output_type": "execute_result"
    }
   ],
   "source": [
    "BLDG_0.pivot_table('DEPVAR', 'FLOOR', aggfunc=len, margins=True)"
   ]
  },
  {
   "cell_type": "code",
   "execution_count": 38,
   "metadata": {},
   "outputs": [
    {
     "data": {
      "text/html": [
       "<div>\n",
       "<style scoped>\n",
       "    .dataframe tbody tr th:only-of-type {\n",
       "        vertical-align: middle;\n",
       "    }\n",
       "\n",
       "    .dataframe tbody tr th {\n",
       "        vertical-align: top;\n",
       "    }\n",
       "\n",
       "    .dataframe thead th {\n",
       "        text-align: right;\n",
       "    }\n",
       "</style>\n",
       "<table border=\"1\" class=\"dataframe\">\n",
       "  <thead>\n",
       "    <tr style=\"text-align: right;\">\n",
       "      <th></th>\n",
       "      <th>WAP520</th>\n",
       "      <th>FLOOR</th>\n",
       "      <th>BUILDINGID</th>\n",
       "      <th>SPACEID</th>\n",
       "      <th>UID</th>\n",
       "      <th>DEPVAR</th>\n",
       "    </tr>\n",
       "  </thead>\n",
       "  <tbody>\n",
       "    <tr>\n",
       "      <th>4</th>\n",
       "      <td>100</td>\n",
       "      <td>0</td>\n",
       "      <td>0</td>\n",
       "      <td>122</td>\n",
       "      <td>0_122</td>\n",
       "      <td>15</td>\n",
       "    </tr>\n",
       "    <tr>\n",
       "      <th>7119</th>\n",
       "      <td>100</td>\n",
       "      <td>0</td>\n",
       "      <td>0</td>\n",
       "      <td>102</td>\n",
       "      <td>0_102</td>\n",
       "      <td>0</td>\n",
       "    </tr>\n",
       "    <tr>\n",
       "      <th>7120</th>\n",
       "      <td>100</td>\n",
       "      <td>0</td>\n",
       "      <td>0</td>\n",
       "      <td>110</td>\n",
       "      <td>0_110</td>\n",
       "      <td>3</td>\n",
       "    </tr>\n",
       "    <tr>\n",
       "      <th>7121</th>\n",
       "      <td>100</td>\n",
       "      <td>0</td>\n",
       "      <td>0</td>\n",
       "      <td>111</td>\n",
       "      <td>0_111</td>\n",
       "      <td>4</td>\n",
       "    </tr>\n",
       "    <tr>\n",
       "      <th>7122</th>\n",
       "      <td>100</td>\n",
       "      <td>0</td>\n",
       "      <td>0</td>\n",
       "      <td>107</td>\n",
       "      <td>0_107</td>\n",
       "      <td>2</td>\n",
       "    </tr>\n",
       "  </tbody>\n",
       "</table>\n",
       "</div>"
      ],
      "text/plain": [
       "      WAP520  FLOOR  BUILDINGID  SPACEID    UID  DEPVAR\n",
       "4        100      0           0      122  0_122      15\n",
       "7119     100      0           0      102  0_102       0\n",
       "7120     100      0           0      110  0_110       3\n",
       "7121     100      0           0      111  0_111       4\n",
       "7122     100      0           0      107  0_107       2"
      ]
     },
     "execution_count": 38,
     "metadata": {},
     "output_type": "execute_result"
    }
   ],
   "source": [
    "BLDG_0.iloc[0:5, 519:]"
   ]
  },
  {
   "cell_type": "code",
   "execution_count": 39,
   "metadata": {},
   "outputs": [
    {
     "name": "stderr",
     "output_type": "stream",
     "text": [
      "C:\\Users\\Christy McCanless\\Anaconda3\\lib\\site-packages\\ipykernel_launcher.py:3: SettingWithCopyWarning: \n",
      "A value is trying to be set on a copy of a slice from a DataFrame.\n",
      "Try using .loc[row_indexer,col_indexer] = value instead\n",
      "\n",
      "See the caveats in the documentation: http://pandas.pydata.org/pandas-docs/stable/indexing.html#indexing-view-versus-copy\n",
      "  This is separate from the ipykernel package so we can avoid doing imports until\n",
      "C:\\Users\\Christy McCanless\\Anaconda3\\lib\\site-packages\\ipykernel_launcher.py:4: SettingWithCopyWarning: \n",
      "A value is trying to be set on a copy of a slice from a DataFrame.\n",
      "Try using .loc[row_indexer,col_indexer] = value instead\n",
      "\n",
      "See the caveats in the documentation: http://pandas.pydata.org/pandas-docs/stable/indexing.html#indexing-view-versus-copy\n",
      "  after removing the cwd from sys.path.\n",
      "C:\\Users\\Christy McCanless\\Anaconda3\\lib\\site-packages\\ipykernel_launcher.py:5: SettingWithCopyWarning: \n",
      "A value is trying to be set on a copy of a slice from a DataFrame.\n",
      "Try using .loc[row_indexer,col_indexer] = value instead\n",
      "\n",
      "See the caveats in the documentation: http://pandas.pydata.org/pandas-docs/stable/indexing.html#indexing-view-versus-copy\n",
      "  \"\"\"\n"
     ]
    }
   ],
   "source": [
    "# Change UID to a category for all buildings\n",
    "\n",
    "BLDG_0['UID'] = BLDG_0['UID'].astype('category')\n",
    "BLDG_1['UID'] = BLDG_1['UID'].astype('category')\n",
    "BLDG_2['UID'] = BLDG_2['UID'].astype('category')"
   ]
  },
  {
   "cell_type": "code",
   "execution_count": 40,
   "metadata": {},
   "outputs": [
    {
     "name": "stdout",
     "output_type": "stream",
     "text": [
      "<class 'pandas.core.frame.DataFrame'>\n",
      "Int64Index: 5249 entries, 4 to 18497\n",
      "Columns: 525 entries, WAP001 to DEPVAR\n",
      "dtypes: category(1), int64(524)\n",
      "memory usage: 21.2 MB\n"
     ]
    }
   ],
   "source": [
    "BLDG_0.info()"
   ]
  },
  {
   "cell_type": "markdown",
   "metadata": {},
   "source": [
    "# Building 0"
   ]
  },
  {
   "cell_type": "code",
   "execution_count": 41,
   "metadata": {},
   "outputs": [
    {
     "data": {
      "text/plain": [
       "(5249, 525)"
      ]
     },
     "execution_count": 41,
     "metadata": {},
     "output_type": "execute_result"
    }
   ],
   "source": [
    "BLDG_0.shape"
   ]
  },
  {
   "cell_type": "code",
   "execution_count": 42,
   "metadata": {},
   "outputs": [
    {
     "data": {
      "text/html": [
       "<div>\n",
       "<style scoped>\n",
       "    .dataframe tbody tr th:only-of-type {\n",
       "        vertical-align: middle;\n",
       "    }\n",
       "\n",
       "    .dataframe tbody tr th {\n",
       "        vertical-align: top;\n",
       "    }\n",
       "\n",
       "    .dataframe thead th {\n",
       "        text-align: right;\n",
       "    }\n",
       "</style>\n",
       "<table border=\"1\" class=\"dataframe\">\n",
       "  <thead>\n",
       "    <tr style=\"text-align: right;\">\n",
       "      <th></th>\n",
       "      <th>WAP520</th>\n",
       "      <th>FLOOR</th>\n",
       "      <th>BUILDINGID</th>\n",
       "      <th>SPACEID</th>\n",
       "      <th>UID</th>\n",
       "      <th>DEPVAR</th>\n",
       "    </tr>\n",
       "  </thead>\n",
       "  <tbody>\n",
       "    <tr>\n",
       "      <th>4</th>\n",
       "      <td>100</td>\n",
       "      <td>0</td>\n",
       "      <td>0</td>\n",
       "      <td>122</td>\n",
       "      <td>0_122</td>\n",
       "      <td>15</td>\n",
       "    </tr>\n",
       "    <tr>\n",
       "      <th>7119</th>\n",
       "      <td>100</td>\n",
       "      <td>0</td>\n",
       "      <td>0</td>\n",
       "      <td>102</td>\n",
       "      <td>0_102</td>\n",
       "      <td>0</td>\n",
       "    </tr>\n",
       "    <tr>\n",
       "      <th>7120</th>\n",
       "      <td>100</td>\n",
       "      <td>0</td>\n",
       "      <td>0</td>\n",
       "      <td>110</td>\n",
       "      <td>0_110</td>\n",
       "      <td>3</td>\n",
       "    </tr>\n",
       "    <tr>\n",
       "      <th>7121</th>\n",
       "      <td>100</td>\n",
       "      <td>0</td>\n",
       "      <td>0</td>\n",
       "      <td>111</td>\n",
       "      <td>0_111</td>\n",
       "      <td>4</td>\n",
       "    </tr>\n",
       "    <tr>\n",
       "      <th>7122</th>\n",
       "      <td>100</td>\n",
       "      <td>0</td>\n",
       "      <td>0</td>\n",
       "      <td>107</td>\n",
       "      <td>0_107</td>\n",
       "      <td>2</td>\n",
       "    </tr>\n",
       "  </tbody>\n",
       "</table>\n",
       "</div>"
      ],
      "text/plain": [
       "      WAP520  FLOOR  BUILDINGID  SPACEID    UID  DEPVAR\n",
       "4        100      0           0      122  0_122      15\n",
       "7119     100      0           0      102  0_102       0\n",
       "7120     100      0           0      110  0_110       3\n",
       "7121     100      0           0      111  0_111       4\n",
       "7122     100      0           0      107  0_107       2"
      ]
     },
     "execution_count": 42,
     "metadata": {},
     "output_type": "execute_result"
    }
   ],
   "source": [
    "BLDG_0.iloc[0:5, 519:]"
   ]
  },
  {
   "cell_type": "code",
   "execution_count": 123,
   "metadata": {},
   "outputs": [
    {
     "name": "stdout",
     "output_type": "stream",
     "text": [
      "Summary of Features Sample for All Buildings\n"
     ]
    },
    {
     "data": {
      "text/html": [
       "<div>\n",
       "<style scoped>\n",
       "    .dataframe tbody tr th:only-of-type {\n",
       "        vertical-align: middle;\n",
       "    }\n",
       "\n",
       "    .dataframe tbody tr th {\n",
       "        vertical-align: top;\n",
       "    }\n",
       "\n",
       "    .dataframe thead th {\n",
       "        text-align: right;\n",
       "    }\n",
       "</style>\n",
       "<table border=\"1\" class=\"dataframe\">\n",
       "  <thead>\n",
       "    <tr style=\"text-align: right;\">\n",
       "      <th></th>\n",
       "      <th>WAP001</th>\n",
       "      <th>WAP002</th>\n",
       "      <th>WAP003</th>\n",
       "      <th>WAP004</th>\n",
       "      <th>WAP005</th>\n",
       "      <th>WAP006</th>\n",
       "      <th>WAP007</th>\n",
       "      <th>WAP008</th>\n",
       "      <th>WAP009</th>\n",
       "      <th>WAP010</th>\n",
       "      <th>...</th>\n",
       "      <th>WAP510</th>\n",
       "      <th>WAP511</th>\n",
       "      <th>WAP512</th>\n",
       "      <th>WAP513</th>\n",
       "      <th>WAP514</th>\n",
       "      <th>WAP515</th>\n",
       "      <th>WAP516</th>\n",
       "      <th>WAP517</th>\n",
       "      <th>WAP518</th>\n",
       "      <th>WAP519</th>\n",
       "    </tr>\n",
       "  </thead>\n",
       "  <tbody>\n",
       "    <tr>\n",
       "      <th>0</th>\n",
       "      <td>100</td>\n",
       "      <td>100</td>\n",
       "      <td>100</td>\n",
       "      <td>100</td>\n",
       "      <td>100</td>\n",
       "      <td>100</td>\n",
       "      <td>100</td>\n",
       "      <td>100</td>\n",
       "      <td>100</td>\n",
       "      <td>100</td>\n",
       "      <td>...</td>\n",
       "      <td>100</td>\n",
       "      <td>100</td>\n",
       "      <td>100</td>\n",
       "      <td>100</td>\n",
       "      <td>100</td>\n",
       "      <td>100</td>\n",
       "      <td>100</td>\n",
       "      <td>100</td>\n",
       "      <td>100</td>\n",
       "      <td>100</td>\n",
       "    </tr>\n",
       "    <tr>\n",
       "      <th>1</th>\n",
       "      <td>100</td>\n",
       "      <td>100</td>\n",
       "      <td>100</td>\n",
       "      <td>100</td>\n",
       "      <td>100</td>\n",
       "      <td>100</td>\n",
       "      <td>100</td>\n",
       "      <td>100</td>\n",
       "      <td>100</td>\n",
       "      <td>100</td>\n",
       "      <td>...</td>\n",
       "      <td>100</td>\n",
       "      <td>100</td>\n",
       "      <td>100</td>\n",
       "      <td>100</td>\n",
       "      <td>100</td>\n",
       "      <td>100</td>\n",
       "      <td>100</td>\n",
       "      <td>100</td>\n",
       "      <td>100</td>\n",
       "      <td>100</td>\n",
       "    </tr>\n",
       "    <tr>\n",
       "      <th>2</th>\n",
       "      <td>100</td>\n",
       "      <td>100</td>\n",
       "      <td>100</td>\n",
       "      <td>100</td>\n",
       "      <td>100</td>\n",
       "      <td>100</td>\n",
       "      <td>100</td>\n",
       "      <td>-97</td>\n",
       "      <td>100</td>\n",
       "      <td>100</td>\n",
       "      <td>...</td>\n",
       "      <td>100</td>\n",
       "      <td>100</td>\n",
       "      <td>100</td>\n",
       "      <td>100</td>\n",
       "      <td>100</td>\n",
       "      <td>100</td>\n",
       "      <td>100</td>\n",
       "      <td>100</td>\n",
       "      <td>100</td>\n",
       "      <td>100</td>\n",
       "    </tr>\n",
       "    <tr>\n",
       "      <th>3</th>\n",
       "      <td>100</td>\n",
       "      <td>100</td>\n",
       "      <td>100</td>\n",
       "      <td>100</td>\n",
       "      <td>100</td>\n",
       "      <td>100</td>\n",
       "      <td>100</td>\n",
       "      <td>100</td>\n",
       "      <td>100</td>\n",
       "      <td>100</td>\n",
       "      <td>...</td>\n",
       "      <td>100</td>\n",
       "      <td>100</td>\n",
       "      <td>100</td>\n",
       "      <td>100</td>\n",
       "      <td>100</td>\n",
       "      <td>100</td>\n",
       "      <td>100</td>\n",
       "      <td>100</td>\n",
       "      <td>100</td>\n",
       "      <td>100</td>\n",
       "    </tr>\n",
       "    <tr>\n",
       "      <th>4</th>\n",
       "      <td>100</td>\n",
       "      <td>100</td>\n",
       "      <td>100</td>\n",
       "      <td>100</td>\n",
       "      <td>100</td>\n",
       "      <td>100</td>\n",
       "      <td>100</td>\n",
       "      <td>100</td>\n",
       "      <td>100</td>\n",
       "      <td>100</td>\n",
       "      <td>...</td>\n",
       "      <td>100</td>\n",
       "      <td>100</td>\n",
       "      <td>100</td>\n",
       "      <td>100</td>\n",
       "      <td>100</td>\n",
       "      <td>100</td>\n",
       "      <td>100</td>\n",
       "      <td>100</td>\n",
       "      <td>100</td>\n",
       "      <td>100</td>\n",
       "    </tr>\n",
       "  </tbody>\n",
       "</table>\n",
       "<p>5 rows × 519 columns</p>\n",
       "</div>"
      ],
      "text/plain": [
       "   WAP001  WAP002  WAP003  WAP004  WAP005  WAP006  WAP007  WAP008  WAP009  \\\n",
       "0     100     100     100     100     100     100     100     100     100   \n",
       "1     100     100     100     100     100     100     100     100     100   \n",
       "2     100     100     100     100     100     100     100     -97     100   \n",
       "3     100     100     100     100     100     100     100     100     100   \n",
       "4     100     100     100     100     100     100     100     100     100   \n",
       "\n",
       "   WAP010   ...    WAP510  WAP511  WAP512  WAP513  WAP514  WAP515  WAP516  \\\n",
       "0     100   ...       100     100     100     100     100     100     100   \n",
       "1     100   ...       100     100     100     100     100     100     100   \n",
       "2     100   ...       100     100     100     100     100     100     100   \n",
       "3     100   ...       100     100     100     100     100     100     100   \n",
       "4     100   ...       100     100     100     100     100     100     100   \n",
       "\n",
       "   WAP517  WAP518  WAP519  \n",
       "0     100     100     100  \n",
       "1     100     100     100  \n",
       "2     100     100     100  \n",
       "3     100     100     100  \n",
       "4     100     100     100  \n",
       "\n",
       "[5 rows x 519 columns]"
      ]
     },
     "execution_count": 123,
     "metadata": {},
     "output_type": "execute_result"
    }
   ],
   "source": [
    "# Select features from first WAP to last WAP\n",
    "features = rawData.iloc[:,0:519]\n",
    "print('Summary of Features Sample for All Buildings')\n",
    "features[0:5]"
   ]
  },
  {
   "cell_type": "code",
   "execution_count": 124,
   "metadata": {},
   "outputs": [
    {
     "data": {
      "text/plain": [
       "0    106\n",
       "1    106\n",
       "2    103\n",
       "3    102\n",
       "4    122\n",
       "Name: SPACEID, dtype: int64"
      ]
     },
     "execution_count": 124,
     "metadata": {},
     "output_type": "execute_result"
    }
   ],
   "source": [
    "# Set dependent variable\n",
    "depVar = rawData['SPACEID']\n",
    "depVar[0:5]"
   ]
  },
  {
   "cell_type": "code",
   "execution_count": 97,
   "metadata": {},
   "outputs": [
    {
     "data": {
      "text/plain": [
       "WAP001    int64\n",
       "WAP002    int64\n",
       "WAP003    int64\n",
       "WAP004    int64\n",
       "WAP005    int64\n",
       "WAP006    int64\n",
       "WAP007    int64\n",
       "WAP008    int64\n",
       "WAP009    int64\n",
       "WAP010    int64\n",
       "WAP011    int64\n",
       "WAP012    int64\n",
       "WAP013    int64\n",
       "WAP014    int64\n",
       "WAP015    int64\n",
       "WAP016    int64\n",
       "WAP017    int64\n",
       "WAP018    int64\n",
       "WAP019    int64\n",
       "WAP020    int64\n",
       "WAP021    int64\n",
       "WAP022    int64\n",
       "WAP023    int64\n",
       "WAP024    int64\n",
       "WAP025    int64\n",
       "WAP026    int64\n",
       "WAP027    int64\n",
       "WAP028    int64\n",
       "WAP029    int64\n",
       "WAP030    int64\n",
       "          ...  \n",
       "WAP490    int64\n",
       "WAP491    int64\n",
       "WAP492    int64\n",
       "WAP493    int64\n",
       "WAP494    int64\n",
       "WAP495    int64\n",
       "WAP496    int64\n",
       "WAP497    int64\n",
       "WAP498    int64\n",
       "WAP499    int64\n",
       "WAP500    int64\n",
       "WAP501    int64\n",
       "WAP502    int64\n",
       "WAP503    int64\n",
       "WAP504    int64\n",
       "WAP505    int64\n",
       "WAP506    int64\n",
       "WAP507    int64\n",
       "WAP508    int64\n",
       "WAP509    int64\n",
       "WAP510    int64\n",
       "WAP511    int64\n",
       "WAP512    int64\n",
       "WAP513    int64\n",
       "WAP514    int64\n",
       "WAP515    int64\n",
       "WAP516    int64\n",
       "WAP517    int64\n",
       "WAP518    int64\n",
       "WAP519    int64\n",
       "Length: 519, dtype: object"
      ]
     },
     "execution_count": 97,
     "metadata": {},
     "output_type": "execute_result"
    }
   ],
   "source": [
    "features.dtypes"
   ]
  },
  {
   "cell_type": "code",
   "execution_count": 126,
   "metadata": {},
   "outputs": [
    {
     "data": {
      "text/plain": [
       "dtype('int64')"
      ]
     },
     "execution_count": 126,
     "metadata": {},
     "output_type": "execute_result"
    }
   ],
   "source": [
    "depVar.dtypes"
   ]
  },
  {
   "cell_type": "code",
   "execution_count": 125,
   "metadata": {},
   "outputs": [
    {
     "name": "stdout",
     "output_type": "stream",
     "text": [
      "[[1006.84358099  586.6483362   769.27796624 ...  -13.00823532\n",
      "   406.28557294  540.65287046]\n",
      " [ 586.6483362   941.58722967  562.86425112 ...  -12.17260696\n",
      "   387.48067266  455.83007119]\n",
      " [ 769.27796624  562.86425112  945.83826932 ...  -11.81940322\n",
      "   282.86968926  421.49870928]\n",
      " ...\n",
      " [ -13.00823532  -12.17260696  -11.81940322 ...  426.48311648\n",
      "   131.06339411  -12.82301872]\n",
      " [ 406.28557294  387.48067266  282.86968926 ...  131.06339411\n",
      "  1025.3720252   745.02912119]\n",
      " [ 540.65287046  455.83007119  421.49870928 ...  -12.82301872\n",
      "   745.02912119 1037.32979966]]\n"
     ]
    }
   ],
   "source": [
    "print(np.cov(rawData.iloc[:,0:519]))"
   ]
  },
  {
   "cell_type": "code",
   "execution_count": 99,
   "metadata": {
    "scrolled": false
   },
   "outputs": [
    {
     "data": {
      "text/plain": [
       "<matplotlib.axes._subplots.AxesSubplot at 0x2413523ca90>"
      ]
     },
     "execution_count": 99,
     "metadata": {},
     "output_type": "execute_result"
    },
    {
     "data": {
      "image/png": "[encoded data removed]",
      "text/plain": [
       "<Figure size 1080x1080 with 2 Axes>"
      ]
     },
     "metadata": {},
     "output_type": "display_data"
    }
   ],
   "source": [
    "plt.figure(figsize=(15,15)) \n",
    "corr = rawData.corr()\n",
    "sns.heatmap(corr, \n",
    "            xticklabels=corr.columns.values,\n",
    "            yticklabels=corr.columns.values)"
   ]
  },
  {
   "cell_type": "code",
   "execution_count": 127,
   "metadata": {},
   "outputs": [
    {
     "data": {
      "text/plain": [
       "<matplotlib.image.AxesImage at 0x2413a56d6a0>"
      ]
     },
     "execution_count": 127,
     "metadata": {},
     "output_type": "execute_result"
    },
    {
     "data": {
      "image/png": "[encoded data removed]",
      "text/plain": [
       "<Figure size 288x288 with 1 Axes>"
      ]
     },
     "metadata": {},
     "output_type": "display_data"
    }
   ],
   "source": [
    "plt.matshow(rawData.corr())"
   ]
  },
  {
   "cell_type": "code",
   "execution_count": 181,
   "metadata": {},
   "outputs": [
    {
     "data": {
      "text/html": [
       "<div>\n",
       "<style scoped>\n",
       "    .dataframe tbody tr th:only-of-type {\n",
       "        vertical-align: middle;\n",
       "    }\n",
       "\n",
       "    .dataframe tbody tr th {\n",
       "        vertical-align: top;\n",
       "    }\n",
       "\n",
       "    .dataframe thead th {\n",
       "        text-align: right;\n",
       "    }\n",
       "</style>\n",
       "<table border=\"1\" class=\"dataframe\">\n",
       "  <thead>\n",
       "    <tr style=\"text-align: right;\">\n",
       "      <th></th>\n",
       "      <th>WAP001</th>\n",
       "      <th>WAP002</th>\n",
       "      <th>WAP003</th>\n",
       "      <th>WAP004</th>\n",
       "      <th>WAP005</th>\n",
       "      <th>WAP006</th>\n",
       "      <th>WAP007</th>\n",
       "      <th>WAP008</th>\n",
       "      <th>WAP009</th>\n",
       "      <th>WAP010</th>\n",
       "      <th>...</th>\n",
       "      <th>WAP514</th>\n",
       "      <th>WAP515</th>\n",
       "      <th>WAP516</th>\n",
       "      <th>WAP517</th>\n",
       "      <th>WAP518</th>\n",
       "      <th>WAP519</th>\n",
       "      <th>WAP520</th>\n",
       "      <th>FLOOR</th>\n",
       "      <th>BUILDINGID</th>\n",
       "      <th>SPACEID</th>\n",
       "    </tr>\n",
       "  </thead>\n",
       "  <tbody>\n",
       "    <tr>\n",
       "      <th>WAP001</th>\n",
       "      <td>1.000000</td>\n",
       "      <td>-0.000928</td>\n",
       "      <td>NaN</td>\n",
       "      <td>NaN</td>\n",
       "      <td>-0.001348</td>\n",
       "      <td>-0.003762</td>\n",
       "      <td>-0.005184</td>\n",
       "      <td>0.004170</td>\n",
       "      <td>-0.005263</td>\n",
       "      <td>-0.001990</td>\n",
       "      <td>...</td>\n",
       "      <td>-0.002396</td>\n",
       "      <td>0.030199</td>\n",
       "      <td>-0.012692</td>\n",
       "      <td>-0.016281</td>\n",
       "      <td>-0.000999</td>\n",
       "      <td>-0.000369</td>\n",
       "      <td>NaN</td>\n",
       "      <td>-0.025719</td>\n",
       "      <td>0.043761</td>\n",
       "      <td>0.016777</td>\n",
       "    </tr>\n",
       "    <tr>\n",
       "      <th>WAP002</th>\n",
       "      <td>-0.000928</td>\n",
       "      <td>1.000000</td>\n",
       "      <td>NaN</td>\n",
       "      <td>NaN</td>\n",
       "      <td>-0.001385</td>\n",
       "      <td>-0.003865</td>\n",
       "      <td>-0.005326</td>\n",
       "      <td>-0.005782</td>\n",
       "      <td>-0.005408</td>\n",
       "      <td>-0.002044</td>\n",
       "      <td>...</td>\n",
       "      <td>-0.002462</td>\n",
       "      <td>-0.001696</td>\n",
       "      <td>-0.013040</td>\n",
       "      <td>-0.016727</td>\n",
       "      <td>-0.001026</td>\n",
       "      <td>-0.000379</td>\n",
       "      <td>NaN</td>\n",
       "      <td>-0.021374</td>\n",
       "      <td>0.044959</td>\n",
       "      <td>-0.035616</td>\n",
       "    </tr>\n",
       "    <tr>\n",
       "      <th>WAP003</th>\n",
       "      <td>NaN</td>\n",
       "      <td>NaN</td>\n",
       "      <td>NaN</td>\n",
       "      <td>NaN</td>\n",
       "      <td>NaN</td>\n",
       "      <td>NaN</td>\n",
       "      <td>NaN</td>\n",
       "      <td>NaN</td>\n",
       "      <td>NaN</td>\n",
       "      <td>NaN</td>\n",
       "      <td>...</td>\n",
       "      <td>NaN</td>\n",
       "      <td>NaN</td>\n",
       "      <td>NaN</td>\n",
       "      <td>NaN</td>\n",
       "      <td>NaN</td>\n",
       "      <td>NaN</td>\n",
       "      <td>NaN</td>\n",
       "      <td>NaN</td>\n",
       "      <td>NaN</td>\n",
       "      <td>NaN</td>\n",
       "    </tr>\n",
       "    <tr>\n",
       "      <th>WAP004</th>\n",
       "      <td>NaN</td>\n",
       "      <td>NaN</td>\n",
       "      <td>NaN</td>\n",
       "      <td>NaN</td>\n",
       "      <td>NaN</td>\n",
       "      <td>NaN</td>\n",
       "      <td>NaN</td>\n",
       "      <td>NaN</td>\n",
       "      <td>NaN</td>\n",
       "      <td>NaN</td>\n",
       "      <td>...</td>\n",
       "      <td>NaN</td>\n",
       "      <td>NaN</td>\n",
       "      <td>NaN</td>\n",
       "      <td>NaN</td>\n",
       "      <td>NaN</td>\n",
       "      <td>NaN</td>\n",
       "      <td>NaN</td>\n",
       "      <td>NaN</td>\n",
       "      <td>NaN</td>\n",
       "      <td>NaN</td>\n",
       "    </tr>\n",
       "    <tr>\n",
       "      <th>WAP005</th>\n",
       "      <td>-0.001348</td>\n",
       "      <td>-0.001385</td>\n",
       "      <td>NaN</td>\n",
       "      <td>NaN</td>\n",
       "      <td>1.000000</td>\n",
       "      <td>-0.005610</td>\n",
       "      <td>-0.007731</td>\n",
       "      <td>-0.008393</td>\n",
       "      <td>-0.007850</td>\n",
       "      <td>-0.002968</td>\n",
       "      <td>...</td>\n",
       "      <td>-0.003574</td>\n",
       "      <td>-0.002463</td>\n",
       "      <td>0.017120</td>\n",
       "      <td>0.044639</td>\n",
       "      <td>-0.001490</td>\n",
       "      <td>-0.000550</td>\n",
       "      <td>NaN</td>\n",
       "      <td>-0.042142</td>\n",
       "      <td>-0.042362</td>\n",
       "      <td>0.008474</td>\n",
       "    </tr>\n",
       "  </tbody>\n",
       "</table>\n",
       "<p>5 rows × 523 columns</p>\n",
       "</div>"
      ],
      "text/plain": [
       "          WAP001    WAP002  WAP003  WAP004    WAP005    WAP006    WAP007  \\\n",
       "WAP001  1.000000 -0.000928     NaN     NaN -0.001348 -0.003762 -0.005184   \n",
       "WAP002 -0.000928  1.000000     NaN     NaN -0.001385 -0.003865 -0.005326   \n",
       "WAP003       NaN       NaN     NaN     NaN       NaN       NaN       NaN   \n",
       "WAP004       NaN       NaN     NaN     NaN       NaN       NaN       NaN   \n",
       "WAP005 -0.001348 -0.001385     NaN     NaN  1.000000 -0.005610 -0.007731   \n",
       "\n",
       "          WAP008    WAP009    WAP010    ...       WAP514    WAP515    WAP516  \\\n",
       "WAP001  0.004170 -0.005263 -0.001990    ...    -0.002396  0.030199 -0.012692   \n",
       "WAP002 -0.005782 -0.005408 -0.002044    ...    -0.002462 -0.001696 -0.013040   \n",
       "WAP003       NaN       NaN       NaN    ...          NaN       NaN       NaN   \n",
       "WAP004       NaN       NaN       NaN    ...          NaN       NaN       NaN   \n",
       "WAP005 -0.008393 -0.007850 -0.002968    ...    -0.003574 -0.002463  0.017120   \n",
       "\n",
       "          WAP517    WAP518    WAP519  WAP520     FLOOR  BUILDINGID   SPACEID  \n",
       "WAP001 -0.016281 -0.000999 -0.000369     NaN -0.025719    0.043761  0.016777  \n",
       "WAP002 -0.016727 -0.001026 -0.000379     NaN -0.021374    0.044959 -0.035616  \n",
       "WAP003       NaN       NaN       NaN     NaN       NaN         NaN       NaN  \n",
       "WAP004       NaN       NaN       NaN     NaN       NaN         NaN       NaN  \n",
       "WAP005  0.044639 -0.001490 -0.000550     NaN -0.042142   -0.042362  0.008474  \n",
       "\n",
       "[5 rows x 523 columns]"
      ]
     },
     "execution_count": 181,
     "metadata": {},
     "output_type": "execute_result"
    }
   ],
   "source": [
    "rawData.corr()"
   ]
  },
  {
   "cell_type": "code",
   "execution_count": null,
   "metadata": {},
   "outputs": [],
   "source": [
    "5249*.7, 3500/5249, 3600/5249"
   ]
  },
  {
   "cell_type": "markdown",
   "metadata": {},
   "source": [
    "# Train / Test Sets"
   ]
  },
  {
   "cell_type": "code",
   "execution_count": 160,
   "metadata": {
    "scrolled": true
   },
   "outputs": [
    {
     "name": "stdout",
     "output_type": "stream",
     "text": [
      "The number of observations in the features training set is 8000\n"
     ]
    },
    {
     "data": {
      "text/html": [
       "<div>\n",
       "<style scoped>\n",
       "    .dataframe tbody tr th:only-of-type {\n",
       "        vertical-align: middle;\n",
       "    }\n",
       "\n",
       "    .dataframe tbody tr th {\n",
       "        vertical-align: top;\n",
       "    }\n",
       "\n",
       "    .dataframe thead th {\n",
       "        text-align: right;\n",
       "    }\n",
       "</style>\n",
       "<table border=\"1\" class=\"dataframe\">\n",
       "  <thead>\n",
       "    <tr style=\"text-align: right;\">\n",
       "      <th></th>\n",
       "      <th>WAP001</th>\n",
       "      <th>WAP002</th>\n",
       "      <th>WAP003</th>\n",
       "      <th>WAP004</th>\n",
       "      <th>WAP005</th>\n",
       "      <th>WAP006</th>\n",
       "      <th>WAP007</th>\n",
       "      <th>WAP008</th>\n",
       "      <th>WAP009</th>\n",
       "      <th>WAP010</th>\n",
       "      <th>...</th>\n",
       "      <th>WAP510</th>\n",
       "      <th>WAP511</th>\n",
       "      <th>WAP512</th>\n",
       "      <th>WAP513</th>\n",
       "      <th>WAP514</th>\n",
       "      <th>WAP515</th>\n",
       "      <th>WAP516</th>\n",
       "      <th>WAP517</th>\n",
       "      <th>WAP518</th>\n",
       "      <th>WAP519</th>\n",
       "    </tr>\n",
       "  </thead>\n",
       "  <tbody>\n",
       "    <tr>\n",
       "      <th>0</th>\n",
       "      <td>100</td>\n",
       "      <td>100</td>\n",
       "      <td>100</td>\n",
       "      <td>100</td>\n",
       "      <td>100</td>\n",
       "      <td>100</td>\n",
       "      <td>100</td>\n",
       "      <td>100</td>\n",
       "      <td>100</td>\n",
       "      <td>100</td>\n",
       "      <td>...</td>\n",
       "      <td>100</td>\n",
       "      <td>100</td>\n",
       "      <td>100</td>\n",
       "      <td>100</td>\n",
       "      <td>100</td>\n",
       "      <td>100</td>\n",
       "      <td>100</td>\n",
       "      <td>100</td>\n",
       "      <td>100</td>\n",
       "      <td>100</td>\n",
       "    </tr>\n",
       "    <tr>\n",
       "      <th>1</th>\n",
       "      <td>100</td>\n",
       "      <td>100</td>\n",
       "      <td>100</td>\n",
       "      <td>100</td>\n",
       "      <td>100</td>\n",
       "      <td>100</td>\n",
       "      <td>100</td>\n",
       "      <td>100</td>\n",
       "      <td>100</td>\n",
       "      <td>100</td>\n",
       "      <td>...</td>\n",
       "      <td>100</td>\n",
       "      <td>100</td>\n",
       "      <td>100</td>\n",
       "      <td>100</td>\n",
       "      <td>100</td>\n",
       "      <td>100</td>\n",
       "      <td>100</td>\n",
       "      <td>100</td>\n",
       "      <td>100</td>\n",
       "      <td>100</td>\n",
       "    </tr>\n",
       "    <tr>\n",
       "      <th>2</th>\n",
       "      <td>100</td>\n",
       "      <td>100</td>\n",
       "      <td>100</td>\n",
       "      <td>100</td>\n",
       "      <td>100</td>\n",
       "      <td>100</td>\n",
       "      <td>100</td>\n",
       "      <td>-97</td>\n",
       "      <td>100</td>\n",
       "      <td>100</td>\n",
       "      <td>...</td>\n",
       "      <td>100</td>\n",
       "      <td>100</td>\n",
       "      <td>100</td>\n",
       "      <td>100</td>\n",
       "      <td>100</td>\n",
       "      <td>100</td>\n",
       "      <td>100</td>\n",
       "      <td>100</td>\n",
       "      <td>100</td>\n",
       "      <td>100</td>\n",
       "    </tr>\n",
       "    <tr>\n",
       "      <th>3</th>\n",
       "      <td>100</td>\n",
       "      <td>100</td>\n",
       "      <td>100</td>\n",
       "      <td>100</td>\n",
       "      <td>100</td>\n",
       "      <td>100</td>\n",
       "      <td>100</td>\n",
       "      <td>100</td>\n",
       "      <td>100</td>\n",
       "      <td>100</td>\n",
       "      <td>...</td>\n",
       "      <td>100</td>\n",
       "      <td>100</td>\n",
       "      <td>100</td>\n",
       "      <td>100</td>\n",
       "      <td>100</td>\n",
       "      <td>100</td>\n",
       "      <td>100</td>\n",
       "      <td>100</td>\n",
       "      <td>100</td>\n",
       "      <td>100</td>\n",
       "    </tr>\n",
       "    <tr>\n",
       "      <th>4</th>\n",
       "      <td>100</td>\n",
       "      <td>100</td>\n",
       "      <td>100</td>\n",
       "      <td>100</td>\n",
       "      <td>100</td>\n",
       "      <td>100</td>\n",
       "      <td>100</td>\n",
       "      <td>100</td>\n",
       "      <td>100</td>\n",
       "      <td>100</td>\n",
       "      <td>...</td>\n",
       "      <td>100</td>\n",
       "      <td>100</td>\n",
       "      <td>100</td>\n",
       "      <td>100</td>\n",
       "      <td>100</td>\n",
       "      <td>100</td>\n",
       "      <td>100</td>\n",
       "      <td>100</td>\n",
       "      <td>100</td>\n",
       "      <td>100</td>\n",
       "    </tr>\n",
       "  </tbody>\n",
       "</table>\n",
       "<p>5 rows × 519 columns</p>\n",
       "</div>"
      ],
      "text/plain": [
       "   WAP001  WAP002  WAP003  WAP004  WAP005  WAP006  WAP007  WAP008  WAP009  \\\n",
       "0     100     100     100     100     100     100     100     100     100   \n",
       "1     100     100     100     100     100     100     100     100     100   \n",
       "2     100     100     100     100     100     100     100     -97     100   \n",
       "3     100     100     100     100     100     100     100     100     100   \n",
       "4     100     100     100     100     100     100     100     100     100   \n",
       "\n",
       "   WAP010   ...    WAP510  WAP511  WAP512  WAP513  WAP514  WAP515  WAP516  \\\n",
       "0     100   ...       100     100     100     100     100     100     100   \n",
       "1     100   ...       100     100     100     100     100     100     100   \n",
       "2     100   ...       100     100     100     100     100     100     100   \n",
       "3     100   ...       100     100     100     100     100     100     100   \n",
       "4     100   ...       100     100     100     100     100     100     100   \n",
       "\n",
       "   WAP517  WAP518  WAP519  \n",
       "0     100     100     100  \n",
       "1     100     100     100  \n",
       "2     100     100     100  \n",
       "3     100     100     100  \n",
       "4     100     100     100  \n",
       "\n",
       "[5 rows x 519 columns]"
      ]
     },
     "execution_count": 160,
     "metadata": {},
     "output_type": "execute_result"
    }
   ],
   "source": [
    "# Set training set for X variables (Feature Space: X Training)\n",
    "X_train = (features[:8000])\n",
    "X_train_count = len(X_train.index)\n",
    "print('The number of observations in the features training set is',str(X_train_count))\n",
    "X_train.head()"
   ]
  },
  {
   "cell_type": "code",
   "execution_count": 159,
   "metadata": {},
   "outputs": [
    {
     "name": "stdout",
     "output_type": "stream",
     "text": [
      "The number of observations in the y training set is 8000\n"
     ]
    },
    {
     "data": {
      "text/plain": [
       "0    106\n",
       "1    106\n",
       "2    103\n",
       "3    102\n",
       "4    122\n",
       "Name: SPACEID, dtype: int64"
      ]
     },
     "execution_count": 159,
     "metadata": {},
     "output_type": "execute_result"
    }
   ],
   "source": [
    "# Set training set for y variable (Independent Variable)\n",
    "# Dependent Variable Training Set (y Training)\n",
    "\n",
    "y_train = depVar[: 8000]\n",
    "y_train_count = len(y_train.index)\n",
    "print('The number of observations in the y training set is',str(y_train_count))\n",
    "y_train.head()"
   ]
  },
  {
   "cell_type": "code",
   "execution_count": 164,
   "metadata": {},
   "outputs": [
    {
     "name": "stdout",
     "output_type": "stream",
     "text": [
      "The number of observations in the feature testing set is 3000\n",
      "16937    212\n",
      "16938    211\n",
      "16939    210\n",
      "16940    209\n",
      "16941    216\n",
      "Name: SPACEID, dtype: int64\n"
     ]
    }
   ],
   "source": [
    "# Set testing set for X variable (Feature Space: X Testing)\n",
    "\n",
    "X_test = depVar[-3000:]\n",
    "X_test_count = len(X_test.index)\n",
    "print('The number of observations in the feature testing set is',str(X_test_count))\n",
    "print(X_test.head())"
   ]
  },
  {
   "cell_type": "code",
   "execution_count": 162,
   "metadata": {},
   "outputs": [
    {
     "data": {
      "text/plain": [
       "3200.0"
      ]
     },
     "execution_count": 162,
     "metadata": {},
     "output_type": "execute_result"
    }
   ],
   "source": [
    "8000*.4"
   ]
  },
  {
   "cell_type": "code",
   "execution_count": 163,
   "metadata": {},
   "outputs": [
    {
     "name": "stdout",
     "output_type": "stream",
     "text": [
      "The number of observations in the y testing set is 3000\n",
      "16937    212\n",
      "16938    211\n",
      "16939    210\n",
      "16940    209\n",
      "16941    216\n",
      "Name: SPACEID, dtype: int64\n"
     ]
    }
   ],
   "source": [
    "# Establish Ground Truth\n",
    "y_test = depVar[-3000: ]\n",
    "y_test_count = len(y_test.index)\n",
    "print('The number of observations in the y testing set is',str(y_test_count))\n",
    "print(y_test.head())"
   ]
  },
  {
   "cell_type": "code",
   "execution_count": null,
   "metadata": {},
   "outputs": [],
   "source": [
    "\"\"\"# Replace out of range values with NaN\n",
    "X_train = X_train.replace(to_replace = 100, value = np.nan)\n",
    "X_test = X_test.replace(to_replace = 100, value = np.nan) \"\"\""
   ]
  },
  {
   "cell_type": "code",
   "execution_count": null,
   "metadata": {},
   "outputs": [],
   "source": [
    "\"\"\"X_stack = X_train.stack(dropna = False)\n",
    "sns.distplot(X_stack.dropna(), kde = False)\"\"\""
   ]
  },
  {
   "cell_type": "code",
   "execution_count": 165,
   "metadata": {},
   "outputs": [],
   "source": [
    "X_train, X_test, y_train, y_test = train_test_split(X_train, y_train, test_size = .30, random_state = 0)"
   ]
  },
  {
   "cell_type": "code",
   "execution_count": 166,
   "metadata": {},
   "outputs": [
    {
     "data": {
      "text/plain": [
       "((5600, 519), (2400, 519))"
      ]
     },
     "execution_count": 166,
     "metadata": {},
     "output_type": "execute_result"
    }
   ],
   "source": [
    "X_train.shape, X_test.shape"
   ]
  },
  {
   "cell_type": "code",
   "execution_count": 167,
   "metadata": {},
   "outputs": [
    {
     "data": {
      "text/plain": [
       "((5600,), (2400,))"
      ]
     },
     "execution_count": 167,
     "metadata": {},
     "output_type": "execute_result"
    }
   ],
   "source": [
    "y_train.shape, y_test.shape"
   ]
  },
  {
   "cell_type": "markdown",
   "metadata": {},
   "source": [
    "# Build Models"
   ]
  },
  {
   "cell_type": "code",
   "execution_count": 182,
   "metadata": {},
   "outputs": [],
   "source": [
    "# Models\n",
    "modelKNN = KNeighborsClassifier()\n",
    "modelRF = RandomForestClassifier()\n",
    "modelSVC = SVC()\n",
    "modelLR = LinearRegression()\n",
    "modelLDA = LinearDiscriminantAnalysis()"
   ]
  },
  {
   "cell_type": "code",
   "execution_count": 138,
   "metadata": {},
   "outputs": [
    {
     "name": "stdout",
     "output_type": "stream",
     "text": [
      "Summary of features sample:\n"
     ]
    },
    {
     "data": {
      "text/html": [
       "<div>\n",
       "<style scoped>\n",
       "    .dataframe tbody tr th:only-of-type {\n",
       "        vertical-align: middle;\n",
       "    }\n",
       "\n",
       "    .dataframe tbody tr th {\n",
       "        vertical-align: top;\n",
       "    }\n",
       "\n",
       "    .dataframe thead th {\n",
       "        text-align: right;\n",
       "    }\n",
       "</style>\n",
       "<table border=\"1\" class=\"dataframe\">\n",
       "  <thead>\n",
       "    <tr style=\"text-align: right;\">\n",
       "      <th></th>\n",
       "      <th>WAP001</th>\n",
       "      <th>WAP002</th>\n",
       "      <th>WAP003</th>\n",
       "      <th>WAP004</th>\n",
       "      <th>WAP005</th>\n",
       "      <th>WAP006</th>\n",
       "      <th>WAP007</th>\n",
       "      <th>WAP008</th>\n",
       "      <th>WAP009</th>\n",
       "      <th>WAP010</th>\n",
       "      <th>...</th>\n",
       "      <th>WAP510</th>\n",
       "      <th>WAP511</th>\n",
       "      <th>WAP512</th>\n",
       "      <th>WAP513</th>\n",
       "      <th>WAP514</th>\n",
       "      <th>WAP515</th>\n",
       "      <th>WAP516</th>\n",
       "      <th>WAP517</th>\n",
       "      <th>WAP518</th>\n",
       "      <th>WAP519</th>\n",
       "    </tr>\n",
       "  </thead>\n",
       "  <tbody>\n",
       "    <tr>\n",
       "      <th>0</th>\n",
       "      <td>100</td>\n",
       "      <td>100</td>\n",
       "      <td>100</td>\n",
       "      <td>100</td>\n",
       "      <td>100</td>\n",
       "      <td>100</td>\n",
       "      <td>100</td>\n",
       "      <td>100</td>\n",
       "      <td>100</td>\n",
       "      <td>100</td>\n",
       "      <td>...</td>\n",
       "      <td>100</td>\n",
       "      <td>100</td>\n",
       "      <td>100</td>\n",
       "      <td>100</td>\n",
       "      <td>100</td>\n",
       "      <td>100</td>\n",
       "      <td>100</td>\n",
       "      <td>100</td>\n",
       "      <td>100</td>\n",
       "      <td>100</td>\n",
       "    </tr>\n",
       "    <tr>\n",
       "      <th>1</th>\n",
       "      <td>100</td>\n",
       "      <td>100</td>\n",
       "      <td>100</td>\n",
       "      <td>100</td>\n",
       "      <td>100</td>\n",
       "      <td>100</td>\n",
       "      <td>100</td>\n",
       "      <td>100</td>\n",
       "      <td>100</td>\n",
       "      <td>100</td>\n",
       "      <td>...</td>\n",
       "      <td>100</td>\n",
       "      <td>100</td>\n",
       "      <td>100</td>\n",
       "      <td>100</td>\n",
       "      <td>100</td>\n",
       "      <td>100</td>\n",
       "      <td>100</td>\n",
       "      <td>100</td>\n",
       "      <td>100</td>\n",
       "      <td>100</td>\n",
       "    </tr>\n",
       "    <tr>\n",
       "      <th>2</th>\n",
       "      <td>100</td>\n",
       "      <td>100</td>\n",
       "      <td>100</td>\n",
       "      <td>100</td>\n",
       "      <td>100</td>\n",
       "      <td>100</td>\n",
       "      <td>100</td>\n",
       "      <td>-97</td>\n",
       "      <td>100</td>\n",
       "      <td>100</td>\n",
       "      <td>...</td>\n",
       "      <td>100</td>\n",
       "      <td>100</td>\n",
       "      <td>100</td>\n",
       "      <td>100</td>\n",
       "      <td>100</td>\n",
       "      <td>100</td>\n",
       "      <td>100</td>\n",
       "      <td>100</td>\n",
       "      <td>100</td>\n",
       "      <td>100</td>\n",
       "    </tr>\n",
       "    <tr>\n",
       "      <th>3</th>\n",
       "      <td>100</td>\n",
       "      <td>100</td>\n",
       "      <td>100</td>\n",
       "      <td>100</td>\n",
       "      <td>100</td>\n",
       "      <td>100</td>\n",
       "      <td>100</td>\n",
       "      <td>100</td>\n",
       "      <td>100</td>\n",
       "      <td>100</td>\n",
       "      <td>...</td>\n",
       "      <td>100</td>\n",
       "      <td>100</td>\n",
       "      <td>100</td>\n",
       "      <td>100</td>\n",
       "      <td>100</td>\n",
       "      <td>100</td>\n",
       "      <td>100</td>\n",
       "      <td>100</td>\n",
       "      <td>100</td>\n",
       "      <td>100</td>\n",
       "    </tr>\n",
       "    <tr>\n",
       "      <th>4</th>\n",
       "      <td>100</td>\n",
       "      <td>100</td>\n",
       "      <td>100</td>\n",
       "      <td>100</td>\n",
       "      <td>100</td>\n",
       "      <td>100</td>\n",
       "      <td>100</td>\n",
       "      <td>100</td>\n",
       "      <td>100</td>\n",
       "      <td>100</td>\n",
       "      <td>...</td>\n",
       "      <td>100</td>\n",
       "      <td>100</td>\n",
       "      <td>100</td>\n",
       "      <td>100</td>\n",
       "      <td>100</td>\n",
       "      <td>100</td>\n",
       "      <td>100</td>\n",
       "      <td>100</td>\n",
       "      <td>100</td>\n",
       "      <td>100</td>\n",
       "    </tr>\n",
       "  </tbody>\n",
       "</table>\n",
       "<p>5 rows × 519 columns</p>\n",
       "</div>"
      ],
      "text/plain": [
       "   WAP001  WAP002  WAP003  WAP004  WAP005  WAP006  WAP007  WAP008  WAP009  \\\n",
       "0     100     100     100     100     100     100     100     100     100   \n",
       "1     100     100     100     100     100     100     100     100     100   \n",
       "2     100     100     100     100     100     100     100     -97     100   \n",
       "3     100     100     100     100     100     100     100     100     100   \n",
       "4     100     100     100     100     100     100     100     100     100   \n",
       "\n",
       "   WAP010   ...    WAP510  WAP511  WAP512  WAP513  WAP514  WAP515  WAP516  \\\n",
       "0     100   ...       100     100     100     100     100     100     100   \n",
       "1     100   ...       100     100     100     100     100     100     100   \n",
       "2     100   ...       100     100     100     100     100     100     100   \n",
       "3     100   ...       100     100     100     100     100     100     100   \n",
       "4     100   ...       100     100     100     100     100     100     100   \n",
       "\n",
       "   WAP517  WAP518  WAP519  \n",
       "0     100     100     100  \n",
       "1     100     100     100  \n",
       "2     100     100     100  \n",
       "3     100     100     100  \n",
       "4     100     100     100  \n",
       "\n",
       "[5 rows x 519 columns]"
      ]
     },
     "execution_count": 138,
     "metadata": {},
     "output_type": "execute_result"
    }
   ],
   "source": [
    "print('Summary of features sample:')\n",
    "features.head()"
   ]
  },
  {
   "cell_type": "code",
   "execution_count": 139,
   "metadata": {},
   "outputs": [
    {
     "data": {
      "text/plain": [
       "0    106\n",
       "1    106\n",
       "2    103\n",
       "3    102\n",
       "4    122\n",
       "Name: SPACEID, dtype: int64"
      ]
     },
     "execution_count": 139,
     "metadata": {},
     "output_type": "execute_result"
    }
   ],
   "source": [
    "# Print dependent variable\n",
    "depVar[0:5,]"
   ]
  },
  {
   "cell_type": "code",
   "execution_count": 168,
   "metadata": {},
   "outputs": [
    {
     "data": {
      "text/plain": [
       "KNeighborsClassifier(algorithm='auto', leaf_size=30, metric='minkowski',\n",
       "           metric_params=None, n_jobs=1, n_neighbors=5, p=2,\n",
       "           weights='uniform')"
      ]
     },
     "execution_count": 168,
     "metadata": {},
     "output_type": "execute_result"
    }
   ],
   "source": [
    "# Fit models\n",
    "modelKNN.fit(X_train, y_train)"
   ]
  },
  {
   "cell_type": "code",
   "execution_count": 169,
   "metadata": {},
   "outputs": [
    {
     "data": {
      "text/plain": [
       "RandomForestClassifier(bootstrap=True, class_weight=None, criterion='gini',\n",
       "            max_depth=None, max_features='auto', max_leaf_nodes=None,\n",
       "            min_impurity_decrease=0.0, min_impurity_split=None,\n",
       "            min_samples_leaf=1, min_samples_split=2,\n",
       "            min_weight_fraction_leaf=0.0, n_estimators=10, n_jobs=1,\n",
       "            oob_score=False, random_state=None, verbose=0,\n",
       "            warm_start=False)"
      ]
     },
     "execution_count": 169,
     "metadata": {},
     "output_type": "execute_result"
    }
   ],
   "source": [
    "modelRF.fit(X_train, y_train)"
   ]
  },
  {
   "cell_type": "code",
   "execution_count": 170,
   "metadata": {},
   "outputs": [
    {
     "data": {
      "text/plain": [
       "SVC(C=1.0, cache_size=200, class_weight=None, coef0=0.0,\n",
       "  decision_function_shape='ovr', degree=3, gamma='auto', kernel='rbf',\n",
       "  max_iter=-1, probability=False, random_state=None, shrinking=True,\n",
       "  tol=0.001, verbose=False)"
      ]
     },
     "execution_count": 170,
     "metadata": {},
     "output_type": "execute_result"
    }
   ],
   "source": [
    "modelSVC.fit(X_train, y_train)"
   ]
  },
  {
   "cell_type": "code",
   "execution_count": 183,
   "metadata": {},
   "outputs": [],
   "source": [
    "modelLR = LinearRegression()"
   ]
  },
  {
   "cell_type": "code",
   "execution_count": 184,
   "metadata": {},
   "outputs": [],
   "source": [
    "modelLDA = LinearDiscriminantAnalysis()"
   ]
  },
  {
   "cell_type": "code",
   "execution_count": 171,
   "metadata": {},
   "outputs": [
    {
     "name": "stderr",
     "output_type": "stream",
     "text": [
      "C:\\Users\\Christy McCanless\\Anaconda3\\lib\\site-packages\\sklearn\\model_selection\\_split.py:605: Warning: The least populated class in y has only 2 members, which is too few. The minimum number of members in any class cannot be less than n_splits=3.\n",
      "  % (min_groups, self.n_splits)), Warning)\n"
     ]
    },
    {
     "name": "stdout",
     "output_type": "stream",
     "text": [
      "[0.54902989 0.56514745 0.54376368]\n"
     ]
    },
    {
     "data": {
      "text/plain": [
       "0.7655357142857143"
      ]
     },
     "execution_count": 171,
     "metadata": {},
     "output_type": "execute_result"
    }
   ],
   "source": [
    "# Model fitting - KNN\n",
    "modelKNN.fit(X_train, y_train)\n",
    "print(cross_val_score(modelKNN, X_train, y_train))\n",
    "modelKNN.score(X_train, y_train)"
   ]
  },
  {
   "cell_type": "code",
   "execution_count": 173,
   "metadata": {},
   "outputs": [
    {
     "name": "stderr",
     "output_type": "stream",
     "text": [
      "C:\\Users\\Christy McCanless\\Anaconda3\\lib\\site-packages\\sklearn\\model_selection\\_split.py:605: Warning: The least populated class in y has only 2 members, which is too few. The minimum number of members in any class cannot be less than n_splits=3.\n",
      "  % (min_groups, self.n_splits)), Warning)\n"
     ]
    },
    {
     "name": "stdout",
     "output_type": "stream",
     "text": [
      "[0.67121133 0.65093834 0.64824945]\n"
     ]
    },
    {
     "data": {
      "text/plain": [
       "0.9919642857142857"
      ]
     },
     "execution_count": 173,
     "metadata": {},
     "output_type": "execute_result"
    }
   ],
   "source": [
    "# Model fitting - RF\n",
    "modelRF.fit(X_train, y_train)\n",
    "print(cross_val_score(modelRF, X_train, y_train))\n",
    "modelRF.score(X_train, y_train)"
   ]
  },
  {
   "cell_type": "code",
   "execution_count": 174,
   "metadata": {},
   "outputs": [
    {
     "name": "stderr",
     "output_type": "stream",
     "text": [
      "C:\\Users\\Christy McCanless\\Anaconda3\\lib\\site-packages\\sklearn\\model_selection\\_split.py:605: Warning: The least populated class in y has only 2 members, which is too few. The minimum number of members in any class cannot be less than n_splits=3.\n",
      "  % (min_groups, self.n_splits)), Warning)\n"
     ]
    },
    {
     "name": "stdout",
     "output_type": "stream",
     "text": [
      "[0.14053487 0.14262735 0.15207877]\n"
     ]
    },
    {
     "data": {
      "text/plain": [
       "0.9871428571428571"
      ]
     },
     "execution_count": 174,
     "metadata": {},
     "output_type": "execute_result"
    }
   ],
   "source": [
    "# Model fitting - SVC\n",
    "modelSVC.fit(X_train, y_train)\n",
    "print(cross_val_score(modelSVC, X_train, y_train))\n",
    "modelSVC.score(X_train, y_train)"
   ]
  },
  {
   "cell_type": "code",
   "execution_count": 185,
   "metadata": {},
   "outputs": [
    {
     "name": "stdout",
     "output_type": "stream",
     "text": [
      "[-1.49089205e+16 -1.93342883e+16 -6.40311585e+17]\n"
     ]
    },
    {
     "data": {
      "text/plain": [
       "0.8688755843963986"
      ]
     },
     "execution_count": 185,
     "metadata": {},
     "output_type": "execute_result"
    }
   ],
   "source": [
    "# Model fitting - LR\n",
    "modelLR.fit(X_train, y_train)\n",
    "print(cross_val_score(modelLR, X_train, y_train))\n",
    "modelLR.score(X_train, y_train)"
   ]
  },
  {
   "cell_type": "code",
   "execution_count": 186,
   "metadata": {},
   "outputs": [
    {
     "name": "stderr",
     "output_type": "stream",
     "text": [
      "C:\\Users\\Christy McCanless\\Anaconda3\\lib\\site-packages\\sklearn\\discriminant_analysis.py:442: UserWarning: The priors do not sum to 1. Renormalizing\n",
      "  UserWarning)\n",
      "C:\\Users\\Christy McCanless\\Anaconda3\\lib\\site-packages\\sklearn\\discriminant_analysis.py:388: UserWarning: Variables are collinear.\n",
      "  warnings.warn(\"Variables are collinear.\")\n",
      "C:\\Users\\Christy McCanless\\Anaconda3\\lib\\site-packages\\sklearn\\model_selection\\_split.py:605: Warning: The least populated class in y has only 2 members, which is too few. The minimum number of members in any class cannot be less than n_splits=3.\n",
      "  % (min_groups, self.n_splits)), Warning)\n",
      "C:\\Users\\Christy McCanless\\Anaconda3\\lib\\site-packages\\sklearn\\discriminant_analysis.py:442: UserWarning: The priors do not sum to 1. Renormalizing\n",
      "  UserWarning)\n",
      "C:\\Users\\Christy McCanless\\Anaconda3\\lib\\site-packages\\sklearn\\discriminant_analysis.py:388: UserWarning: Variables are collinear.\n",
      "  warnings.warn(\"Variables are collinear.\")\n",
      "C:\\Users\\Christy McCanless\\Anaconda3\\lib\\site-packages\\sklearn\\discriminant_analysis.py:388: UserWarning: Variables are collinear.\n",
      "  warnings.warn(\"Variables are collinear.\")\n"
     ]
    },
    {
     "name": "stdout",
     "output_type": "stream",
     "text": [
      "[0.41688516 0.4155496  0.41083151]\n"
     ]
    },
    {
     "name": "stderr",
     "output_type": "stream",
     "text": [
      "C:\\Users\\Christy McCanless\\Anaconda3\\lib\\site-packages\\sklearn\\discriminant_analysis.py:388: UserWarning: Variables are collinear.\n",
      "  warnings.warn(\"Variables are collinear.\")\n"
     ]
    },
    {
     "data": {
      "text/plain": [
       "0.5957142857142858"
      ]
     },
     "execution_count": 186,
     "metadata": {},
     "output_type": "execute_result"
    }
   ],
   "source": [
    "# Model fitting - LDA\n",
    "modelLDA.fit(X_train, y_train)\n",
    "print(cross_val_score(modelLDA, X_train, y_train))\n",
    "modelLDA.score(X_train, y_train)"
   ]
  },
  {
   "cell_type": "markdown",
   "metadata": {},
   "source": [
    "# Make Predictions"
   ]
  },
  {
   "cell_type": "code",
   "execution_count": 187,
   "metadata": {},
   "outputs": [
    {
     "data": {
      "image/png": "[encoded data removed]",
      "text/plain": [
       "<Figure size 720x576 with 1 Axes>"
      ]
     },
     "metadata": {},
     "output_type": "display_data"
    }
   ],
   "source": [
    "plt.scatter(y_test, predictions, color = ['blue', 'green'], alpha = .5)\n",
    "plt.title('Scatter Plot for Random Forest Model')\n",
    "plt.xlabel('Ground Truth')\n",
    "plt.ylabel('Predictions')\n",
    "plt.show()"
   ]
  },
  {
   "cell_type": "code",
   "execution_count": 176,
   "metadata": {},
   "outputs": [
    {
     "name": "stdout",
     "output_type": "stream",
     "text": [
      "             precision    recall  f1-score   support\n",
      "\n",
      "          2       0.77      0.91      0.83        11\n",
      "          3       0.73      0.89      0.80         9\n",
      "          4       0.64      0.90      0.75        10\n",
      "          5       1.00      0.75      0.86        12\n",
      "          6       0.88      1.00      0.93         7\n",
      "          7       0.50      0.50      0.50         2\n",
      "          8       0.82      0.82      0.82        11\n",
      "          9       0.62      0.73      0.67        11\n",
      "         10       0.97      0.93      0.95        30\n",
      "         15       1.00      0.67      0.80         6\n",
      "         16       0.83      0.83      0.83         6\n",
      "         17       1.00      0.67      0.80         3\n",
      "         18       0.83      0.71      0.77         7\n",
      "         22       1.00      0.50      0.67         2\n",
      "         26       1.00      1.00      1.00         2\n",
      "         27       1.00      0.20      0.33         5\n",
      "         28       1.00      1.00      1.00         5\n",
      "         29       0.38      1.00      0.55         3\n",
      "        101       0.71      0.65      0.68        49\n",
      "        102       0.51      0.65      0.57        37\n",
      "        103       0.72      0.74      0.73        42\n",
      "        104       0.58      0.79      0.67        61\n",
      "        105       0.46      0.38      0.42        29\n",
      "        106       0.68      0.73      0.71        41\n",
      "        107       0.63      0.56      0.59        43\n",
      "        108       0.54      0.70      0.61        40\n",
      "        109       0.47      0.67      0.55        21\n",
      "        110       0.67      0.71      0.69        34\n",
      "        111       0.53      0.60      0.56        30\n",
      "        112       0.84      0.80      0.82        40\n",
      "        113       0.70      0.59      0.64        27\n",
      "        114       0.62      0.45      0.53        11\n",
      "        115       0.50      0.62      0.55        13\n",
      "        116       0.54      0.39      0.45        18\n",
      "        117       0.80      0.53      0.64        30\n",
      "        118       0.67      0.64      0.65        22\n",
      "        119       0.62      0.60      0.61        25\n",
      "        120       0.41      0.55      0.47        20\n",
      "        121       0.72      0.60      0.65        30\n",
      "        122       0.66      0.66      0.66        35\n",
      "        123       0.62      0.42      0.50        12\n",
      "        124       0.61      0.73      0.67        26\n",
      "        125       0.75      0.38      0.50        24\n",
      "        126       0.50      0.52      0.51        29\n",
      "        127       0.91      0.91      0.91        32\n",
      "        128       0.72      0.62      0.67        29\n",
      "        129       0.71      0.77      0.74        31\n",
      "        130       0.85      0.61      0.71        18\n",
      "        131       0.81      0.87      0.84        15\n",
      "        132       0.73      0.61      0.67        18\n",
      "        133       0.68      0.58      0.62        26\n",
      "        134       0.71      0.75      0.73        20\n",
      "        135       0.62      0.67      0.64        12\n",
      "        136       0.64      0.78      0.70        18\n",
      "        137       0.40      0.33      0.36         6\n",
      "        138       0.67      0.55      0.60        11\n",
      "        139       0.92      0.82      0.87        28\n",
      "        140       0.80      0.88      0.84        41\n",
      "        141       0.75      0.43      0.55        14\n",
      "        142       1.00      0.80      0.89         5\n",
      "        143       0.75      0.43      0.55        14\n",
      "        146       1.00      0.67      0.80         6\n",
      "        147       1.00      1.00      1.00         2\n",
      "        201       0.86      0.89      0.88        94\n",
      "        202       0.79      0.90      0.84        86\n",
      "        203       0.91      0.89      0.90        75\n",
      "        204       0.91      0.83      0.87        59\n",
      "        205       0.77      0.74      0.76        46\n",
      "        206       0.80      0.70      0.74        50\n",
      "        207       0.76      0.71      0.73        41\n",
      "        208       0.70      0.86      0.78        36\n",
      "        209       0.65      0.68      0.67        25\n",
      "        210       0.80      0.59      0.68        27\n",
      "        211       0.87      0.84      0.86        32\n",
      "        212       0.74      0.83      0.78        24\n",
      "        213       0.78      0.74      0.76        19\n",
      "        214       0.42      0.76      0.54        29\n",
      "        215       0.85      0.65      0.74        26\n",
      "        216       0.80      0.82      0.81        40\n",
      "        217       0.94      0.81      0.87        37\n",
      "        218       0.82      0.90      0.86        10\n",
      "        219       0.60      0.50      0.55        12\n",
      "        220       0.80      0.57      0.67        14\n",
      "        221       0.75      0.86      0.80         7\n",
      "        222       0.78      0.50      0.61        14\n",
      "        223       0.57      0.80      0.67        10\n",
      "        224       0.67      0.50      0.57         8\n",
      "        225       0.50      0.56      0.53         9\n",
      "        226       0.64      0.88      0.74         8\n",
      "        227       0.83      0.50      0.62        20\n",
      "        228       0.82      0.60      0.69        15\n",
      "        229       0.38      0.42      0.40        12\n",
      "        230       0.57      0.57      0.57        21\n",
      "        231       0.47      0.57      0.52        14\n",
      "        232       0.50      0.50      0.50         6\n",
      "        233       0.83      0.56      0.67         9\n",
      "        234       0.67      0.44      0.53         9\n",
      "        235       0.57      0.44      0.50         9\n",
      "        236       0.60      0.90      0.72        10\n",
      "        237       0.79      0.69      0.73        16\n",
      "        238       0.69      0.58      0.63        19\n",
      "        239       0.57      1.00      0.73         8\n",
      "        240       1.00      0.67      0.80         3\n",
      "        241       0.70      0.78      0.74         9\n",
      "        242       0.86      0.55      0.67        11\n",
      "        243       0.43      0.67      0.52         9\n",
      "        244       0.44      0.73      0.55        11\n",
      "        245       0.83      0.56      0.67         9\n",
      "        246       0.71      0.56      0.63         9\n",
      "        247       1.00      0.87      0.93        23\n",
      "        248       0.95      0.95      0.95        20\n",
      "        249       0.50      0.50      0.50         4\n",
      "        250       0.71      0.71      0.71         7\n",
      "        253       1.00      1.00      1.00         2\n",
      "\n",
      "avg / total       0.73      0.71      0.71      2400\n",
      "\n",
      "Random Forest Metrics:\n",
      "Accurancy: 0.712\n",
      "Kappa: 0.708\n"
     ]
    }
   ],
   "source": [
    "# Make predictions - RF\n",
    "predictions = modelRF.predict(X_test)\n",
    "predAccuracy = accuracy_score(y_test, predictions)\n",
    "predKappa = cohen_kappa_score(y_test, predictions)\n",
    "print(classification_report(y_test, predictions))\n",
    "print('Random Forest Metrics:')\n",
    "print('Accurancy: %.3f' % predAccuracy)\n",
    "print('Kappa: %.3f' % predKappa)"
   ]
  },
  {
   "cell_type": "code",
   "execution_count": 177,
   "metadata": {},
   "outputs": [
    {
     "name": "stdout",
     "output_type": "stream",
     "text": [
      "             precision    recall  f1-score   support\n",
      "\n",
      "          2       1.00      0.18      0.31        11\n",
      "          3       0.00      0.00      0.00         9\n",
      "          4       0.00      0.00      0.00        10\n",
      "          5       0.00      0.00      0.00        12\n",
      "          6       0.00      0.00      0.00         7\n",
      "          7       0.00      0.00      0.00         2\n",
      "          8       0.00      0.00      0.00        11\n",
      "          9       1.00      0.09      0.17        11\n",
      "         10       1.00      0.10      0.18        30\n",
      "         15       0.00      0.00      0.00         6\n",
      "         16       1.00      0.17      0.29         6\n",
      "         17       0.00      0.00      0.00         3\n",
      "         18       0.00      0.00      0.00         7\n",
      "         22       1.00      0.50      0.67         2\n",
      "         26       0.00      0.00      0.00         2\n",
      "         27       0.00      0.00      0.00         5\n",
      "         28       0.00      0.00      0.00         5\n",
      "         29       0.00      0.00      0.00         3\n",
      "        101       0.83      0.10      0.18        49\n",
      "        102       1.00      0.11      0.20        37\n",
      "        103       0.86      0.14      0.24        42\n",
      "        104       0.90      0.15      0.25        61\n",
      "        105       0.00      0.00      0.00        29\n",
      "        106       0.67      0.05      0.09        41\n",
      "        107       1.00      0.16      0.28        43\n",
      "        108       1.00      0.07      0.14        40\n",
      "        109       0.00      0.00      0.00        21\n",
      "        110       1.00      0.06      0.11        34\n",
      "        111       1.00      0.20      0.33        30\n",
      "        112       1.00      0.10      0.18        40\n",
      "        113       1.00      0.22      0.36        27\n",
      "        114       1.00      0.09      0.17        11\n",
      "        115       1.00      0.08      0.14        13\n",
      "        116       1.00      0.17      0.29        18\n",
      "        117       0.00      0.00      0.00        30\n",
      "        118       1.00      0.27      0.43        22\n",
      "        119       1.00      0.12      0.21        25\n",
      "        120       1.00      0.05      0.10        20\n",
      "        121       1.00      0.17      0.29        30\n",
      "        122       1.00      0.23      0.37        35\n",
      "        123       0.00      0.00      0.00        12\n",
      "        124       1.00      0.19      0.32        26\n",
      "        125       1.00      0.12      0.22        24\n",
      "        126       0.00      0.00      0.00        29\n",
      "        127       1.00      0.34      0.51        32\n",
      "        128       1.00      0.07      0.13        29\n",
      "        129       1.00      0.10      0.18        31\n",
      "        130       0.00      0.00      0.00        18\n",
      "        131       1.00      0.07      0.12        15\n",
      "        132       1.00      0.06      0.11        18\n",
      "        133       1.00      0.12      0.21        26\n",
      "        134       0.00      0.00      0.00        20\n",
      "        135       1.00      0.25      0.40        12\n",
      "        136       0.00      0.00      0.00        18\n",
      "        137       0.00      0.00      0.00         6\n",
      "        138       1.00      0.09      0.17        11\n",
      "        139       1.00      0.11      0.19        28\n",
      "        140       1.00      0.15      0.26        41\n",
      "        141       1.00      0.21      0.35        14\n",
      "        142       0.00      0.00      0.00         5\n",
      "        143       0.00      0.00      0.00        14\n",
      "        146       1.00      0.17      0.29         6\n",
      "        147       0.00      0.00      0.00         2\n",
      "        201       0.97      0.30      0.46        94\n",
      "        202       0.04      0.99      0.08        86\n",
      "        203       0.91      0.28      0.43        75\n",
      "        204       1.00      0.44      0.61        59\n",
      "        205       1.00      0.20      0.33        46\n",
      "        206       0.85      0.22      0.35        50\n",
      "        207       0.90      0.22      0.35        41\n",
      "        208       1.00      0.14      0.24        36\n",
      "        209       1.00      0.16      0.28        25\n",
      "        210       1.00      0.11      0.20        27\n",
      "        211       1.00      0.09      0.17        32\n",
      "        212       1.00      0.21      0.34        24\n",
      "        213       1.00      0.05      0.10        19\n",
      "        214       0.28      0.31      0.30        29\n",
      "        215       1.00      0.12      0.21        26\n",
      "        216       0.88      0.17      0.29        40\n",
      "        217       1.00      0.08      0.15        37\n",
      "        218       0.00      0.00      0.00        10\n",
      "        219       0.00      0.00      0.00        12\n",
      "        220       1.00      0.07      0.13        14\n",
      "        221       1.00      0.29      0.44         7\n",
      "        222       0.00      0.00      0.00        14\n",
      "        223       0.00      0.00      0.00        10\n",
      "        224       1.00      0.25      0.40         8\n",
      "        225       0.00      0.00      0.00         9\n",
      "        226       0.00      0.00      0.00         8\n",
      "        227       0.33      0.05      0.09        20\n",
      "        228       0.50      0.07      0.12        15\n",
      "        229       0.33      0.25      0.29        12\n",
      "        230       0.50      0.14      0.22        21\n",
      "        231       1.00      0.07      0.13        14\n",
      "        232       1.00      0.33      0.50         6\n",
      "        233       0.00      0.00      0.00         9\n",
      "        234       1.00      0.22      0.36         9\n",
      "        235       0.00      0.00      0.00         9\n",
      "        236       1.00      0.10      0.18        10\n",
      "        237       0.25      0.06      0.10        16\n",
      "        238       0.80      0.21      0.33        19\n",
      "        239       0.20      0.12      0.15         8\n",
      "        240       1.00      0.33      0.50         3\n",
      "        241       1.00      0.11      0.20         9\n",
      "        242       1.00      0.09      0.17        11\n",
      "        243       0.00      0.00      0.00         9\n",
      "        244       1.00      0.27      0.43        11\n",
      "        245       0.00      0.00      0.00         9\n",
      "        246       0.00      0.00      0.00         9\n",
      "        247       1.00      0.04      0.08        23\n",
      "        248       1.00      0.05      0.10        20\n",
      "        249       0.00      0.00      0.00         4\n",
      "        250       0.00      0.00      0.00         7\n",
      "        253       0.00      0.00      0.00         2\n",
      "\n",
      "avg / total       0.74      0.17      0.22      2400\n",
      "\n",
      "SVR Metrics:\n",
      "Accuracy: 0.167\n",
      "Kappa: 0.139\n"
     ]
    },
    {
     "name": "stderr",
     "output_type": "stream",
     "text": [
      "C:\\Users\\Christy McCanless\\Anaconda3\\lib\\site-packages\\sklearn\\metrics\\classification.py:1135: UndefinedMetricWarning: Precision and F-score are ill-defined and being set to 0.0 in labels with no predicted samples.\n",
      "  'precision', 'predicted', average, warn_for)\n"
     ]
    }
   ],
   "source": [
    "# Make predictions - SVC\n",
    "predictions = modelSVC.predict(X_test)\n",
    "predAccuracy = accuracy_score(y_test, predictions)\n",
    "predKappa = cohen_kappa_score(y_test, predictions)\n",
    "\n",
    "print(classification_report(y_test, predictions))\n",
    "print('SVR Metrics:')\n",
    "print('Accuracy: %.3f' % predAccuracy)\n",
    "print('Kappa: %.3f' % predKappa)"
   ]
  },
  {
   "cell_type": "code",
   "execution_count": 179,
   "metadata": {},
   "outputs": [
    {
     "name": "stdout",
     "output_type": "stream",
     "text": [
      "             precision    recall  f1-score   support\n",
      "\n",
      "          2       0.82      0.82      0.82        11\n",
      "          3       0.83      0.56      0.67         9\n",
      "          4       0.67      0.80      0.73        10\n",
      "          5       0.82      0.75      0.78        12\n",
      "          6       0.67      0.57      0.62         7\n",
      "          7       0.50      1.00      0.67         2\n",
      "          8       0.67      0.36      0.47        11\n",
      "          9       0.47      0.82      0.60        11\n",
      "         10       0.92      0.80      0.86        30\n",
      "         15       0.57      0.67      0.62         6\n",
      "         16       0.60      0.50      0.55         6\n",
      "         17       1.00      1.00      1.00         3\n",
      "         18       0.83      0.71      0.77         7\n",
      "         22       0.25      1.00      0.40         2\n",
      "         26       0.50      0.50      0.50         2\n",
      "         27       1.00      0.20      0.33         5\n",
      "         28       0.67      0.80      0.73         5\n",
      "         29       0.50      0.33      0.40         3\n",
      "        101       0.51      0.55      0.53        49\n",
      "        102       0.43      0.54      0.48        37\n",
      "        103       0.51      0.64      0.57        42\n",
      "        104       0.60      0.69      0.64        61\n",
      "        105       0.55      0.38      0.45        29\n",
      "        106       0.62      0.56      0.59        41\n",
      "        107       0.48      0.56      0.52        43\n",
      "        108       0.59      0.50      0.54        40\n",
      "        109       0.44      0.76      0.56        21\n",
      "        110       0.59      0.71      0.64        34\n",
      "        111       0.55      0.57      0.56        30\n",
      "        112       0.60      0.72      0.66        40\n",
      "        113       0.70      0.52      0.60        27\n",
      "        114       0.60      0.55      0.57        11\n",
      "        115       0.26      0.46      0.33        13\n",
      "        116       0.17      0.44      0.25        18\n",
      "        117       0.67      0.40      0.50        30\n",
      "        118       0.60      0.68      0.64        22\n",
      "        119       0.59      0.52      0.55        25\n",
      "        120       0.58      0.35      0.44        20\n",
      "        121       0.83      0.50      0.62        30\n",
      "        122       0.71      0.71      0.71        35\n",
      "        123       0.57      0.33      0.42        12\n",
      "        124       0.57      0.77      0.66        26\n",
      "        125       0.75      0.25      0.38        24\n",
      "        126       0.72      0.45      0.55        29\n",
      "        127       0.74      0.81      0.78        32\n",
      "        128       0.74      0.48      0.58        29\n",
      "        129       0.59      0.77      0.67        31\n",
      "        130       0.61      0.61      0.61        18\n",
      "        131       0.73      0.73      0.73        15\n",
      "        132       0.73      0.61      0.67        18\n",
      "        133       0.61      0.65      0.63        26\n",
      "        134       0.52      0.70      0.60        20\n",
      "        135       0.78      0.58      0.67        12\n",
      "        136       0.89      0.44      0.59        18\n",
      "        137       0.50      0.67      0.57         6\n",
      "        138       0.64      0.64      0.64        11\n",
      "        139       0.91      0.71      0.80        28\n",
      "        140       0.82      0.90      0.86        41\n",
      "        141       1.00      0.43      0.60        14\n",
      "        142       0.80      0.80      0.80         5\n",
      "        143       0.67      0.43      0.52        14\n",
      "        146       1.00      0.83      0.91         6\n",
      "        147       1.00      1.00      1.00         2\n",
      "        201       0.75      0.76      0.75        94\n",
      "        202       0.70      0.77      0.73        86\n",
      "        203       0.71      0.75      0.73        75\n",
      "        204       0.87      0.80      0.83        59\n",
      "        205       0.79      0.72      0.75        46\n",
      "        206       0.68      0.72      0.70        50\n",
      "        207       0.74      0.63      0.68        41\n",
      "        208       0.62      0.78      0.69        36\n",
      "        209       0.57      0.68      0.62        25\n",
      "        210       0.80      0.59      0.68        27\n",
      "        211       0.70      0.72      0.71        32\n",
      "        212       0.86      0.75      0.80        24\n",
      "        213       0.58      0.58      0.58        19\n",
      "        214       0.56      0.69      0.62        29\n",
      "        215       0.95      0.69      0.80        26\n",
      "        216       0.75      0.82      0.79        40\n",
      "        217       0.91      0.81      0.86        37\n",
      "        218       0.45      0.50      0.48        10\n",
      "        219       0.86      0.50      0.63        12\n",
      "        220       0.55      0.43      0.48        14\n",
      "        221       0.71      0.71      0.71         7\n",
      "        222       0.60      0.43      0.50        14\n",
      "        223       0.86      0.60      0.71        10\n",
      "        224       0.57      0.50      0.53         8\n",
      "        225       0.73      0.89      0.80         9\n",
      "        226       0.46      0.75      0.57         8\n",
      "        227       0.29      0.20      0.24        20\n",
      "        228       0.38      0.33      0.36        15\n",
      "        229       0.35      0.50      0.41        12\n",
      "        230       0.36      0.19      0.25        21\n",
      "        231       0.27      0.21      0.24        14\n",
      "        232       0.57      0.67      0.62         6\n",
      "        233       1.00      0.33      0.50         9\n",
      "        234       0.38      0.33      0.35         9\n",
      "        235       0.17      0.22      0.19         9\n",
      "        236       0.44      0.80      0.57        10\n",
      "        237       0.40      0.38      0.39        16\n",
      "        238       0.46      0.32      0.37        19\n",
      "        239       0.21      0.50      0.30         8\n",
      "        240       0.60      1.00      0.75         3\n",
      "        241       1.00      0.89      0.94         9\n",
      "        242       0.90      0.82      0.86        11\n",
      "        243       0.33      0.44      0.38         9\n",
      "        244       0.83      0.45      0.59        11\n",
      "        245       0.83      0.56      0.67         9\n",
      "        246       1.00      0.56      0.71         9\n",
      "        247       0.51      0.78      0.62        23\n",
      "        248       0.92      0.55      0.69        20\n",
      "        249       0.00      0.00      0.00         4\n",
      "        250       0.80      0.57      0.67         7\n",
      "        253       1.00      1.00      1.00         2\n",
      "\n",
      "avg / total       0.66      0.63      0.63      2400\n",
      "\n",
      "KNN Metrics:\n",
      "Accuracy: 0.629\n",
      "Kappa: 0.623\n"
     ]
    }
   ],
   "source": [
    "# Make predictions - KNN\n",
    "predictions = modelKNN.predict(X_test)\n",
    "predAccuracy = accuracy_score(y_test, predictions)\n",
    "predKappa = cohen_kappa_score(y_test, predictions)\n",
    "\n",
    "print(classification_report(y_test, predictions))\n",
    "print('KNN Metrics:')\n",
    "print('Accuracy: %.3f' % predAccuracy)\n",
    "print('Kappa: %.3f' % predKappa)"
   ]
  },
  {
   "cell_type": "code",
   "execution_count": 189,
   "metadata": {},
   "outputs": [
    {
     "name": "stdout",
     "output_type": "stream",
     "text": [
      "             precision    recall  f1-score   support\n",
      "\n",
      "          2       0.86      0.55      0.67        11\n",
      "          3       0.56      0.56      0.56         9\n",
      "          4       0.40      0.40      0.40        10\n",
      "          5       1.00      0.58      0.74        12\n",
      "          6       0.67      0.57      0.62         7\n",
      "          7       0.18      1.00      0.31         2\n",
      "          8       0.47      0.73      0.57        11\n",
      "          9       0.57      0.36      0.44        11\n",
      "         10       0.83      0.50      0.62        30\n",
      "         15       0.80      0.67      0.73         6\n",
      "         16       0.31      0.83      0.45         6\n",
      "         17       1.00      0.67      0.80         3\n",
      "         18       0.75      0.43      0.55         7\n",
      "         22       0.40      1.00      0.57         2\n",
      "         26       1.00      1.00      1.00         2\n",
      "         27       1.00      0.60      0.75         5\n",
      "         28       0.62      1.00      0.77         5\n",
      "         29       0.20      0.33      0.25         3\n",
      "        101       0.52      0.27      0.35        49\n",
      "        102       0.39      0.30      0.34        37\n",
      "        103       0.49      0.40      0.44        42\n",
      "        104       0.65      0.51      0.57        61\n",
      "        105       0.45      0.45      0.45        29\n",
      "        106       0.50      0.29      0.37        41\n",
      "        107       0.33      0.37      0.35        43\n",
      "        108       0.19      0.12      0.15        40\n",
      "        109       0.32      0.33      0.33        21\n",
      "        110       0.38      0.24      0.29        34\n",
      "        111       0.12      0.03      0.05        30\n",
      "        112       0.43      0.33      0.37        40\n",
      "        113       0.27      0.48      0.34        27\n",
      "        114       0.20      0.09      0.13        11\n",
      "        115       0.20      0.46      0.28        13\n",
      "        116       0.05      0.06      0.05        18\n",
      "        117       0.50      0.27      0.35        30\n",
      "        118       0.25      0.45      0.32        22\n",
      "        119       0.30      0.44      0.35        25\n",
      "        120       0.44      0.20      0.28        20\n",
      "        121       0.62      0.33      0.43        30\n",
      "        122       0.43      0.63      0.51        35\n",
      "        123       0.71      0.42      0.53        12\n",
      "        124       0.33      0.62      0.43        26\n",
      "        125       0.15      0.21      0.17        24\n",
      "        126       0.44      0.24      0.31        29\n",
      "        127       0.38      0.44      0.41        32\n",
      "        128       0.26      0.17      0.21        29\n",
      "        129       0.29      0.48      0.36        31\n",
      "        130       0.38      0.44      0.41        18\n",
      "        131       0.50      0.33      0.40        15\n",
      "        132       0.75      0.17      0.27        18\n",
      "        133       0.30      0.31      0.30        26\n",
      "        134       0.62      0.25      0.36        20\n",
      "        135       0.43      0.25      0.32        12\n",
      "        136       0.50      0.33      0.40        18\n",
      "        137       0.06      0.17      0.09         6\n",
      "        138       0.33      0.18      0.24        11\n",
      "        139       0.41      0.64      0.50        28\n",
      "        140       0.31      0.73      0.43        41\n",
      "        141       0.67      0.43      0.52        14\n",
      "        142       0.80      0.80      0.80         5\n",
      "        143       0.31      0.79      0.44        14\n",
      "        144       0.00      0.00      0.00         0\n",
      "        146       0.60      0.50      0.55         6\n",
      "        147       1.00      1.00      1.00         2\n",
      "        201       0.73      0.60      0.65        94\n",
      "        202       0.53      0.67      0.59        86\n",
      "        203       0.52      0.43      0.47        75\n",
      "        204       0.67      0.17      0.27        59\n",
      "        205       0.49      0.39      0.43        46\n",
      "        206       0.80      0.32      0.46        50\n",
      "        207       0.47      0.56      0.51        41\n",
      "        208       0.30      0.44      0.36        36\n",
      "        209       0.31      0.32      0.31        25\n",
      "        210       0.64      0.33      0.44        27\n",
      "        211       0.59      0.53      0.56        32\n",
      "        212       0.76      0.54      0.63        24\n",
      "        213       0.17      0.11      0.13        19\n",
      "        214       0.32      0.52      0.39        29\n",
      "        215       0.26      0.54      0.35        26\n",
      "        216       0.77      0.60      0.68        40\n",
      "        217       0.90      0.49      0.63        37\n",
      "        218       0.36      0.40      0.38        10\n",
      "        219       0.24      0.33      0.28        12\n",
      "        220       0.28      0.36      0.31        14\n",
      "        221       0.38      0.71      0.50         7\n",
      "        222       0.58      0.50      0.54        14\n",
      "        223       0.33      0.40      0.36        10\n",
      "        224       0.33      0.38      0.35         8\n",
      "        225       0.62      0.56      0.59         9\n",
      "        226       0.00      0.00      0.00         8\n",
      "        227       0.24      0.25      0.24        20\n",
      "        228       0.20      0.13      0.16        15\n",
      "        229       0.17      0.08      0.11        12\n",
      "        230       0.29      0.10      0.14        21\n",
      "        231       0.24      0.29      0.26        14\n",
      "        232       0.33      0.50      0.40         6\n",
      "        233       0.50      0.22      0.31         9\n",
      "        234       0.38      0.33      0.35         9\n",
      "        235       0.09      0.11      0.10         9\n",
      "        236       0.50      0.50      0.50        10\n",
      "        237       0.17      0.25      0.21        16\n",
      "        238       0.37      0.58      0.45        19\n",
      "        239       0.29      0.62      0.40         8\n",
      "        240       1.00      0.67      0.80         3\n",
      "        241       1.00      0.56      0.71         9\n",
      "        242       0.91      0.91      0.91        11\n",
      "        243       0.67      0.44      0.53         9\n",
      "        244       0.42      0.45      0.43        11\n",
      "        245       0.62      0.56      0.59         9\n",
      "        246       0.71      0.56      0.63         9\n",
      "        247       0.54      0.83      0.66        23\n",
      "        248       0.58      0.55      0.56        20\n",
      "        249       0.04      0.50      0.08         4\n",
      "        250       0.38      0.43      0.40         7\n",
      "        253       0.40      1.00      0.57         2\n",
      "\n",
      "avg / total       0.47      0.42      0.42      2400\n",
      "\n",
      "LDA Metrics:\n",
      "Accuracy: 0.418\n",
      "Kappa: 0.410\n"
     ]
    },
    {
     "name": "stderr",
     "output_type": "stream",
     "text": [
      "C:\\Users\\Christy McCanless\\Anaconda3\\lib\\site-packages\\sklearn\\metrics\\classification.py:1137: UndefinedMetricWarning: Recall and F-score are ill-defined and being set to 0.0 in labels with no true samples.\n",
      "  'recall', 'true', average, warn_for)\n"
     ]
    }
   ],
   "source": [
    "# Make predictions - LDA\n",
    "predictions = modelLDA.predict(X_test)\n",
    "predAccuracy = accuracy_score(y_test, predictions)\n",
    "predKappa = cohen_kappa_score(y_test, predictions)\n",
    "\n",
    "print(classification_report(y_test, predictions))\n",
    "print('LDA Metrics:')\n",
    "print('Accuracy: %.3f' % predAccuracy)\n",
    "print('Kappa: %.3f' % predKappa)"
   ]
  }
 ],
 "metadata": {
  "kernelspec": {
   "display_name": "Python 3",
   "language": "python",
   "name": "python3"
  },
  "language_info": {
   "codemirror_mode": {
    "name": "ipython",
    "version": 3
   },
   "file_extension": ".py",
   "mimetype": "text/x-python",
   "name": "python",
   "nbconvert_exporter": "python",
   "pygments_lexer": "ipython3",
   "version": "3.6.5"
  }
 },
 "nbformat": 4,
 "nbformat_minor": 2
}
